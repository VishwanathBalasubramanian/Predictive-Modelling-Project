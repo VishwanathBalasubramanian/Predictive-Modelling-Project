{
 "cells": [
  {
   "cell_type": "markdown",
   "metadata": {},
   "source": [
    "# Problem 1: Linear Regression\n",
    "\n",
    "\n",
    "You are hired by a company Gem Stones co ltd, which is a cubic zirconia manufacturer. You are provided with the dataset containing the prices and other attributes of almost 27,000 cubic zirconia (which is an inexpensive diamond alternative with many of the same qualities as a diamond). The company is earning different profits on different prize slots. You have to help the company in predicting the price for the stone on the bases of the details given in the dataset so it can distinguish between higher profitable stones and lower profitable stones so as to have better profit share. Also, provide them with the best 5 attributes that are most important."
   ]
  },
  {
   "cell_type": "markdown",
   "metadata": {},
   "source": [
    "## 1.1. Read the data and do exploratory data analysis. Describe the data briefly. (Check the null values, Data types, shape, EDA). Perform Univariate and Bivariate Analysis."
   ]
  },
  {
   "cell_type": "code",
   "execution_count": 1,
   "metadata": {},
   "outputs": [],
   "source": [
    "#Importing necessary libraries\n",
    "import numpy as np   \n",
    "import pandas as pd \n",
    "import copy\n",
    "import os\n",
    "import matplotlib.pyplot as plt   \n",
    "import matplotlib.style\n",
    "plt.style.use('classic')\n",
    "%matplotlib inline \n",
    "import math\n",
    "from scipy.stats import zscore\n",
    "import warnings\n",
    "warnings.filterwarnings(\"ignore\")\n",
    "import seaborn as sns\n",
    "from sklearn.linear_model import LinearRegression\n",
    "import statsmodels.api as sm\n",
    "import scipy.stats as stats\n",
    "from sklearn.model_selection import train_test_split\n",
    "from sklearn import metrics\n",
    "from sklearn.metrics import mean_squared_error\n",
    "from statsmodels.stats.outliers_influence import variance_inflation_factor"
   ]
  },
  {
   "cell_type": "code",
   "execution_count": 2,
   "metadata": {},
   "outputs": [],
   "source": [
    "#Importing the data\n",
    "df_diamond = pd.read_csv('cubic_zirconia.csv')"
   ]
  },
  {
   "cell_type": "code",
   "execution_count": 3,
   "metadata": {},
   "outputs": [],
   "source": [
    "df_diamond_copy = df_diamond.copy()"
   ]
  },
  {
   "cell_type": "code",
   "execution_count": 4,
   "metadata": {},
   "outputs": [
    {
     "data": {
      "text/html": [
       "<div>\n",
       "<style scoped>\n",
       "    .dataframe tbody tr th:only-of-type {\n",
       "        vertical-align: middle;\n",
       "    }\n",
       "\n",
       "    .dataframe tbody tr th {\n",
       "        vertical-align: top;\n",
       "    }\n",
       "\n",
       "    .dataframe thead th {\n",
       "        text-align: right;\n",
       "    }\n",
       "</style>\n",
       "<table border=\"1\" class=\"dataframe\">\n",
       "  <thead>\n",
       "    <tr style=\"text-align: right;\">\n",
       "      <th></th>\n",
       "      <th>Unnamed: 0</th>\n",
       "      <th>carat</th>\n",
       "      <th>cut</th>\n",
       "      <th>color</th>\n",
       "      <th>clarity</th>\n",
       "      <th>depth</th>\n",
       "      <th>table</th>\n",
       "      <th>x</th>\n",
       "      <th>y</th>\n",
       "      <th>z</th>\n",
       "      <th>price</th>\n",
       "    </tr>\n",
       "  </thead>\n",
       "  <tbody>\n",
       "    <tr>\n",
       "      <th>0</th>\n",
       "      <td>1</td>\n",
       "      <td>0.30</td>\n",
       "      <td>Ideal</td>\n",
       "      <td>E</td>\n",
       "      <td>SI1</td>\n",
       "      <td>62.1</td>\n",
       "      <td>58.0</td>\n",
       "      <td>4.27</td>\n",
       "      <td>4.29</td>\n",
       "      <td>2.66</td>\n",
       "      <td>499</td>\n",
       "    </tr>\n",
       "    <tr>\n",
       "      <th>1</th>\n",
       "      <td>2</td>\n",
       "      <td>0.33</td>\n",
       "      <td>Premium</td>\n",
       "      <td>G</td>\n",
       "      <td>IF</td>\n",
       "      <td>60.8</td>\n",
       "      <td>58.0</td>\n",
       "      <td>4.42</td>\n",
       "      <td>4.46</td>\n",
       "      <td>2.70</td>\n",
       "      <td>984</td>\n",
       "    </tr>\n",
       "    <tr>\n",
       "      <th>2</th>\n",
       "      <td>3</td>\n",
       "      <td>0.90</td>\n",
       "      <td>Very Good</td>\n",
       "      <td>E</td>\n",
       "      <td>VVS2</td>\n",
       "      <td>62.2</td>\n",
       "      <td>60.0</td>\n",
       "      <td>6.04</td>\n",
       "      <td>6.12</td>\n",
       "      <td>3.78</td>\n",
       "      <td>6289</td>\n",
       "    </tr>\n",
       "    <tr>\n",
       "      <th>3</th>\n",
       "      <td>4</td>\n",
       "      <td>0.42</td>\n",
       "      <td>Ideal</td>\n",
       "      <td>F</td>\n",
       "      <td>VS1</td>\n",
       "      <td>61.6</td>\n",
       "      <td>56.0</td>\n",
       "      <td>4.82</td>\n",
       "      <td>4.80</td>\n",
       "      <td>2.96</td>\n",
       "      <td>1082</td>\n",
       "    </tr>\n",
       "    <tr>\n",
       "      <th>4</th>\n",
       "      <td>5</td>\n",
       "      <td>0.31</td>\n",
       "      <td>Ideal</td>\n",
       "      <td>F</td>\n",
       "      <td>VVS1</td>\n",
       "      <td>60.4</td>\n",
       "      <td>59.0</td>\n",
       "      <td>4.35</td>\n",
       "      <td>4.43</td>\n",
       "      <td>2.65</td>\n",
       "      <td>779</td>\n",
       "    </tr>\n",
       "  </tbody>\n",
       "</table>\n",
       "</div>"
      ],
      "text/plain": [
       "   Unnamed: 0  carat        cut color clarity  depth  table     x     y     z  \\\n",
       "0           1   0.30      Ideal     E     SI1   62.1   58.0  4.27  4.29  2.66   \n",
       "1           2   0.33    Premium     G      IF   60.8   58.0  4.42  4.46  2.70   \n",
       "2           3   0.90  Very Good     E    VVS2   62.2   60.0  6.04  6.12  3.78   \n",
       "3           4   0.42      Ideal     F     VS1   61.6   56.0  4.82  4.80  2.96   \n",
       "4           5   0.31      Ideal     F    VVS1   60.4   59.0  4.35  4.43  2.65   \n",
       "\n",
       "   price  \n",
       "0    499  \n",
       "1    984  \n",
       "2   6289  \n",
       "3   1082  \n",
       "4    779  "
      ]
     },
     "execution_count": 4,
     "metadata": {},
     "output_type": "execute_result"
    }
   ],
   "source": [
    "#Head info\n",
    "df_diamond.head()"
   ]
  },
  {
   "cell_type": "code",
   "execution_count": 5,
   "metadata": {},
   "outputs": [
    {
     "data": {
      "text/plain": [
       "(26967, 11)"
      ]
     },
     "execution_count": 5,
     "metadata": {},
     "output_type": "execute_result"
    }
   ],
   "source": [
    "#Shape of the data(rows,columns)\n",
    "df_diamond.shape"
   ]
  },
  {
   "cell_type": "code",
   "execution_count": 6,
   "metadata": {},
   "outputs": [],
   "source": [
    "#Since the first column is no of any significance in the analysis, its dropped\n",
    "df_diamond.drop(df_diamond.columns[0], axis=1,inplace=True)"
   ]
  },
  {
   "cell_type": "code",
   "execution_count": 7,
   "metadata": {},
   "outputs": [
    {
     "name": "stdout",
     "output_type": "stream",
     "text": [
      "<class 'pandas.core.frame.DataFrame'>\n",
      "RangeIndex: 26967 entries, 0 to 26966\n",
      "Data columns (total 10 columns):\n",
      " #   Column   Non-Null Count  Dtype  \n",
      "---  ------   --------------  -----  \n",
      " 0   carat    26967 non-null  float64\n",
      " 1   cut      26967 non-null  object \n",
      " 2   color    26967 non-null  object \n",
      " 3   clarity  26967 non-null  object \n",
      " 4   depth    26270 non-null  float64\n",
      " 5   table    26967 non-null  float64\n",
      " 6   x        26967 non-null  float64\n",
      " 7   y        26967 non-null  float64\n",
      " 8   z        26967 non-null  float64\n",
      " 9   price    26967 non-null  int64  \n",
      "dtypes: float64(6), int64(1), object(3)\n",
      "memory usage: 2.1+ MB\n"
     ]
    }
   ],
   "source": [
    "#DataFrame Information\n",
    "df_diamond.info()"
   ]
  },
  {
   "cell_type": "code",
   "execution_count": 8,
   "metadata": {},
   "outputs": [
    {
     "data": {
      "text/html": [
       "<div>\n",
       "<style scoped>\n",
       "    .dataframe tbody tr th:only-of-type {\n",
       "        vertical-align: middle;\n",
       "    }\n",
       "\n",
       "    .dataframe tbody tr th {\n",
       "        vertical-align: top;\n",
       "    }\n",
       "\n",
       "    .dataframe thead th {\n",
       "        text-align: right;\n",
       "    }\n",
       "</style>\n",
       "<table border=\"1\" class=\"dataframe\">\n",
       "  <thead>\n",
       "    <tr style=\"text-align: right;\">\n",
       "      <th></th>\n",
       "      <th>carat</th>\n",
       "      <th>cut</th>\n",
       "      <th>color</th>\n",
       "      <th>clarity</th>\n",
       "      <th>depth</th>\n",
       "      <th>table</th>\n",
       "      <th>x</th>\n",
       "      <th>y</th>\n",
       "      <th>z</th>\n",
       "      <th>price</th>\n",
       "    </tr>\n",
       "  </thead>\n",
       "  <tbody>\n",
       "    <tr>\n",
       "      <th>count</th>\n",
       "      <td>26967.000000</td>\n",
       "      <td>26967</td>\n",
       "      <td>26967</td>\n",
       "      <td>26967</td>\n",
       "      <td>26270.000000</td>\n",
       "      <td>26967.000000</td>\n",
       "      <td>26967.000000</td>\n",
       "      <td>26967.000000</td>\n",
       "      <td>26967.000000</td>\n",
       "      <td>26967.000000</td>\n",
       "    </tr>\n",
       "    <tr>\n",
       "      <th>unique</th>\n",
       "      <td>NaN</td>\n",
       "      <td>5</td>\n",
       "      <td>7</td>\n",
       "      <td>8</td>\n",
       "      <td>NaN</td>\n",
       "      <td>NaN</td>\n",
       "      <td>NaN</td>\n",
       "      <td>NaN</td>\n",
       "      <td>NaN</td>\n",
       "      <td>NaN</td>\n",
       "    </tr>\n",
       "    <tr>\n",
       "      <th>top</th>\n",
       "      <td>NaN</td>\n",
       "      <td>Ideal</td>\n",
       "      <td>G</td>\n",
       "      <td>SI1</td>\n",
       "      <td>NaN</td>\n",
       "      <td>NaN</td>\n",
       "      <td>NaN</td>\n",
       "      <td>NaN</td>\n",
       "      <td>NaN</td>\n",
       "      <td>NaN</td>\n",
       "    </tr>\n",
       "    <tr>\n",
       "      <th>freq</th>\n",
       "      <td>NaN</td>\n",
       "      <td>10816</td>\n",
       "      <td>5661</td>\n",
       "      <td>6571</td>\n",
       "      <td>NaN</td>\n",
       "      <td>NaN</td>\n",
       "      <td>NaN</td>\n",
       "      <td>NaN</td>\n",
       "      <td>NaN</td>\n",
       "      <td>NaN</td>\n",
       "    </tr>\n",
       "    <tr>\n",
       "      <th>mean</th>\n",
       "      <td>0.798375</td>\n",
       "      <td>NaN</td>\n",
       "      <td>NaN</td>\n",
       "      <td>NaN</td>\n",
       "      <td>61.745147</td>\n",
       "      <td>57.456080</td>\n",
       "      <td>5.729854</td>\n",
       "      <td>5.733569</td>\n",
       "      <td>3.538057</td>\n",
       "      <td>3939.518115</td>\n",
       "    </tr>\n",
       "    <tr>\n",
       "      <th>std</th>\n",
       "      <td>0.477745</td>\n",
       "      <td>NaN</td>\n",
       "      <td>NaN</td>\n",
       "      <td>NaN</td>\n",
       "      <td>1.412860</td>\n",
       "      <td>2.232068</td>\n",
       "      <td>1.128516</td>\n",
       "      <td>1.166058</td>\n",
       "      <td>0.720624</td>\n",
       "      <td>4024.864666</td>\n",
       "    </tr>\n",
       "    <tr>\n",
       "      <th>min</th>\n",
       "      <td>0.200000</td>\n",
       "      <td>NaN</td>\n",
       "      <td>NaN</td>\n",
       "      <td>NaN</td>\n",
       "      <td>50.800000</td>\n",
       "      <td>49.000000</td>\n",
       "      <td>0.000000</td>\n",
       "      <td>0.000000</td>\n",
       "      <td>0.000000</td>\n",
       "      <td>326.000000</td>\n",
       "    </tr>\n",
       "    <tr>\n",
       "      <th>25%</th>\n",
       "      <td>0.400000</td>\n",
       "      <td>NaN</td>\n",
       "      <td>NaN</td>\n",
       "      <td>NaN</td>\n",
       "      <td>61.000000</td>\n",
       "      <td>56.000000</td>\n",
       "      <td>4.710000</td>\n",
       "      <td>4.710000</td>\n",
       "      <td>2.900000</td>\n",
       "      <td>945.000000</td>\n",
       "    </tr>\n",
       "    <tr>\n",
       "      <th>50%</th>\n",
       "      <td>0.700000</td>\n",
       "      <td>NaN</td>\n",
       "      <td>NaN</td>\n",
       "      <td>NaN</td>\n",
       "      <td>61.800000</td>\n",
       "      <td>57.000000</td>\n",
       "      <td>5.690000</td>\n",
       "      <td>5.710000</td>\n",
       "      <td>3.520000</td>\n",
       "      <td>2375.000000</td>\n",
       "    </tr>\n",
       "    <tr>\n",
       "      <th>75%</th>\n",
       "      <td>1.050000</td>\n",
       "      <td>NaN</td>\n",
       "      <td>NaN</td>\n",
       "      <td>NaN</td>\n",
       "      <td>62.500000</td>\n",
       "      <td>59.000000</td>\n",
       "      <td>6.550000</td>\n",
       "      <td>6.540000</td>\n",
       "      <td>4.040000</td>\n",
       "      <td>5360.000000</td>\n",
       "    </tr>\n",
       "    <tr>\n",
       "      <th>max</th>\n",
       "      <td>4.500000</td>\n",
       "      <td>NaN</td>\n",
       "      <td>NaN</td>\n",
       "      <td>NaN</td>\n",
       "      <td>73.600000</td>\n",
       "      <td>79.000000</td>\n",
       "      <td>10.230000</td>\n",
       "      <td>58.900000</td>\n",
       "      <td>31.800000</td>\n",
       "      <td>18818.000000</td>\n",
       "    </tr>\n",
       "  </tbody>\n",
       "</table>\n",
       "</div>"
      ],
      "text/plain": [
       "               carat    cut  color clarity         depth         table  \\\n",
       "count   26967.000000  26967  26967   26967  26270.000000  26967.000000   \n",
       "unique           NaN      5      7       8           NaN           NaN   \n",
       "top              NaN  Ideal      G     SI1           NaN           NaN   \n",
       "freq             NaN  10816   5661    6571           NaN           NaN   \n",
       "mean        0.798375    NaN    NaN     NaN     61.745147     57.456080   \n",
       "std         0.477745    NaN    NaN     NaN      1.412860      2.232068   \n",
       "min         0.200000    NaN    NaN     NaN     50.800000     49.000000   \n",
       "25%         0.400000    NaN    NaN     NaN     61.000000     56.000000   \n",
       "50%         0.700000    NaN    NaN     NaN     61.800000     57.000000   \n",
       "75%         1.050000    NaN    NaN     NaN     62.500000     59.000000   \n",
       "max         4.500000    NaN    NaN     NaN     73.600000     79.000000   \n",
       "\n",
       "                   x             y             z         price  \n",
       "count   26967.000000  26967.000000  26967.000000  26967.000000  \n",
       "unique           NaN           NaN           NaN           NaN  \n",
       "top              NaN           NaN           NaN           NaN  \n",
       "freq             NaN           NaN           NaN           NaN  \n",
       "mean        5.729854      5.733569      3.538057   3939.518115  \n",
       "std         1.128516      1.166058      0.720624   4024.864666  \n",
       "min         0.000000      0.000000      0.000000    326.000000  \n",
       "25%         4.710000      4.710000      2.900000    945.000000  \n",
       "50%         5.690000      5.710000      3.520000   2375.000000  \n",
       "75%         6.550000      6.540000      4.040000   5360.000000  \n",
       "max        10.230000     58.900000     31.800000  18818.000000  "
      ]
     },
     "execution_count": 8,
     "metadata": {},
     "output_type": "execute_result"
    }
   ],
   "source": [
    "#DataFrame Description\n",
    "df_diamond.describe(include = 'all')"
   ]
  },
  {
   "cell_type": "code",
   "execution_count": 9,
   "metadata": {},
   "outputs": [
    {
     "name": "stdout",
     "output_type": "stream",
     "text": [
      "Number of duplicate rows = 34\n"
     ]
    },
    {
     "data": {
      "text/html": [
       "<div>\n",
       "<style scoped>\n",
       "    .dataframe tbody tr th:only-of-type {\n",
       "        vertical-align: middle;\n",
       "    }\n",
       "\n",
       "    .dataframe tbody tr th {\n",
       "        vertical-align: top;\n",
       "    }\n",
       "\n",
       "    .dataframe thead th {\n",
       "        text-align: right;\n",
       "    }\n",
       "</style>\n",
       "<table border=\"1\" class=\"dataframe\">\n",
       "  <thead>\n",
       "    <tr style=\"text-align: right;\">\n",
       "      <th></th>\n",
       "      <th>carat</th>\n",
       "      <th>cut</th>\n",
       "      <th>color</th>\n",
       "      <th>clarity</th>\n",
       "      <th>depth</th>\n",
       "      <th>table</th>\n",
       "      <th>x</th>\n",
       "      <th>y</th>\n",
       "      <th>z</th>\n",
       "      <th>price</th>\n",
       "    </tr>\n",
       "  </thead>\n",
       "  <tbody>\n",
       "    <tr>\n",
       "      <th>4756</th>\n",
       "      <td>0.35</td>\n",
       "      <td>Premium</td>\n",
       "      <td>J</td>\n",
       "      <td>VS1</td>\n",
       "      <td>62.4</td>\n",
       "      <td>58.0</td>\n",
       "      <td>5.67</td>\n",
       "      <td>5.64</td>\n",
       "      <td>3.53</td>\n",
       "      <td>949</td>\n",
       "    </tr>\n",
       "    <tr>\n",
       "      <th>6215</th>\n",
       "      <td>0.71</td>\n",
       "      <td>Good</td>\n",
       "      <td>F</td>\n",
       "      <td>SI2</td>\n",
       "      <td>64.1</td>\n",
       "      <td>60.0</td>\n",
       "      <td>0.00</td>\n",
       "      <td>0.00</td>\n",
       "      <td>0.00</td>\n",
       "      <td>2130</td>\n",
       "    </tr>\n",
       "    <tr>\n",
       "      <th>8144</th>\n",
       "      <td>0.33</td>\n",
       "      <td>Ideal</td>\n",
       "      <td>G</td>\n",
       "      <td>VS1</td>\n",
       "      <td>62.1</td>\n",
       "      <td>55.0</td>\n",
       "      <td>4.46</td>\n",
       "      <td>4.43</td>\n",
       "      <td>2.76</td>\n",
       "      <td>854</td>\n",
       "    </tr>\n",
       "    <tr>\n",
       "      <th>8919</th>\n",
       "      <td>1.52</td>\n",
       "      <td>Good</td>\n",
       "      <td>E</td>\n",
       "      <td>I1</td>\n",
       "      <td>57.3</td>\n",
       "      <td>58.0</td>\n",
       "      <td>7.53</td>\n",
       "      <td>7.42</td>\n",
       "      <td>4.28</td>\n",
       "      <td>3105</td>\n",
       "    </tr>\n",
       "    <tr>\n",
       "      <th>9818</th>\n",
       "      <td>0.35</td>\n",
       "      <td>Ideal</td>\n",
       "      <td>F</td>\n",
       "      <td>VS2</td>\n",
       "      <td>61.4</td>\n",
       "      <td>54.0</td>\n",
       "      <td>4.58</td>\n",
       "      <td>4.54</td>\n",
       "      <td>2.80</td>\n",
       "      <td>906</td>\n",
       "    </tr>\n",
       "    <tr>\n",
       "      <th>10473</th>\n",
       "      <td>0.79</td>\n",
       "      <td>Ideal</td>\n",
       "      <td>G</td>\n",
       "      <td>SI1</td>\n",
       "      <td>62.3</td>\n",
       "      <td>57.0</td>\n",
       "      <td>5.90</td>\n",
       "      <td>5.85</td>\n",
       "      <td>3.66</td>\n",
       "      <td>2898</td>\n",
       "    </tr>\n",
       "    <tr>\n",
       "      <th>10500</th>\n",
       "      <td>1.00</td>\n",
       "      <td>Premium</td>\n",
       "      <td>F</td>\n",
       "      <td>VVS2</td>\n",
       "      <td>60.6</td>\n",
       "      <td>54.0</td>\n",
       "      <td>6.56</td>\n",
       "      <td>6.52</td>\n",
       "      <td>3.96</td>\n",
       "      <td>8924</td>\n",
       "    </tr>\n",
       "    <tr>\n",
       "      <th>12894</th>\n",
       "      <td>1.21</td>\n",
       "      <td>Premium</td>\n",
       "      <td>D</td>\n",
       "      <td>SI2</td>\n",
       "      <td>62.5</td>\n",
       "      <td>57.0</td>\n",
       "      <td>6.79</td>\n",
       "      <td>6.71</td>\n",
       "      <td>4.22</td>\n",
       "      <td>6505</td>\n",
       "    </tr>\n",
       "    <tr>\n",
       "      <th>13547</th>\n",
       "      <td>0.43</td>\n",
       "      <td>Ideal</td>\n",
       "      <td>G</td>\n",
       "      <td>VS1</td>\n",
       "      <td>61.9</td>\n",
       "      <td>55.0</td>\n",
       "      <td>4.84</td>\n",
       "      <td>4.86</td>\n",
       "      <td>3.00</td>\n",
       "      <td>943</td>\n",
       "    </tr>\n",
       "    <tr>\n",
       "      <th>13783</th>\n",
       "      <td>0.79</td>\n",
       "      <td>Ideal</td>\n",
       "      <td>G</td>\n",
       "      <td>SI1</td>\n",
       "      <td>62.3</td>\n",
       "      <td>57.0</td>\n",
       "      <td>5.90</td>\n",
       "      <td>5.85</td>\n",
       "      <td>3.66</td>\n",
       "      <td>2898</td>\n",
       "    </tr>\n",
       "    <tr>\n",
       "      <th>14389</th>\n",
       "      <td>0.60</td>\n",
       "      <td>Premium</td>\n",
       "      <td>D</td>\n",
       "      <td>SI2</td>\n",
       "      <td>62.0</td>\n",
       "      <td>57.0</td>\n",
       "      <td>5.43</td>\n",
       "      <td>5.35</td>\n",
       "      <td>3.34</td>\n",
       "      <td>1196</td>\n",
       "    </tr>\n",
       "    <tr>\n",
       "      <th>14410</th>\n",
       "      <td>1.00</td>\n",
       "      <td>Very Good</td>\n",
       "      <td>D</td>\n",
       "      <td>SI1</td>\n",
       "      <td>63.1</td>\n",
       "      <td>56.0</td>\n",
       "      <td>6.34</td>\n",
       "      <td>6.30</td>\n",
       "      <td>3.99</td>\n",
       "      <td>5645</td>\n",
       "    </tr>\n",
       "    <tr>\n",
       "      <th>15798</th>\n",
       "      <td>0.90</td>\n",
       "      <td>Very Good</td>\n",
       "      <td>I</td>\n",
       "      <td>VS2</td>\n",
       "      <td>58.4</td>\n",
       "      <td>62.0</td>\n",
       "      <td>6.29</td>\n",
       "      <td>6.35</td>\n",
       "      <td>3.69</td>\n",
       "      <td>3334</td>\n",
       "    </tr>\n",
       "    <tr>\n",
       "      <th>16852</th>\n",
       "      <td>0.79</td>\n",
       "      <td>Ideal</td>\n",
       "      <td>G</td>\n",
       "      <td>SI1</td>\n",
       "      <td>62.3</td>\n",
       "      <td>57.0</td>\n",
       "      <td>5.90</td>\n",
       "      <td>5.85</td>\n",
       "      <td>3.66</td>\n",
       "      <td>2898</td>\n",
       "    </tr>\n",
       "    <tr>\n",
       "      <th>17263</th>\n",
       "      <td>1.04</td>\n",
       "      <td>Premium</td>\n",
       "      <td>I</td>\n",
       "      <td>SI2</td>\n",
       "      <td>62.0</td>\n",
       "      <td>57.0</td>\n",
       "      <td>6.53</td>\n",
       "      <td>6.47</td>\n",
       "      <td>4.03</td>\n",
       "      <td>3774</td>\n",
       "    </tr>\n",
       "    <tr>\n",
       "      <th>18025</th>\n",
       "      <td>1.51</td>\n",
       "      <td>Good</td>\n",
       "      <td>I</td>\n",
       "      <td>SI1</td>\n",
       "      <td>63.8</td>\n",
       "      <td>57.0</td>\n",
       "      <td>7.21</td>\n",
       "      <td>7.18</td>\n",
       "      <td>4.59</td>\n",
       "      <td>6046</td>\n",
       "    </tr>\n",
       "    <tr>\n",
       "      <th>18777</th>\n",
       "      <td>0.32</td>\n",
       "      <td>Premium</td>\n",
       "      <td>H</td>\n",
       "      <td>VS2</td>\n",
       "      <td>60.6</td>\n",
       "      <td>58.0</td>\n",
       "      <td>4.47</td>\n",
       "      <td>4.44</td>\n",
       "      <td>2.70</td>\n",
       "      <td>648</td>\n",
       "    </tr>\n",
       "    <tr>\n",
       "      <th>18837</th>\n",
       "      <td>1.01</td>\n",
       "      <td>Premium</td>\n",
       "      <td>H</td>\n",
       "      <td>VS1</td>\n",
       "      <td>61.2</td>\n",
       "      <td>61.0</td>\n",
       "      <td>6.44</td>\n",
       "      <td>6.41</td>\n",
       "      <td>3.93</td>\n",
       "      <td>5294</td>\n",
       "    </tr>\n",
       "    <tr>\n",
       "      <th>19731</th>\n",
       "      <td>0.30</td>\n",
       "      <td>Good</td>\n",
       "      <td>J</td>\n",
       "      <td>VS1</td>\n",
       "      <td>63.4</td>\n",
       "      <td>57.0</td>\n",
       "      <td>4.23</td>\n",
       "      <td>4.26</td>\n",
       "      <td>2.69</td>\n",
       "      <td>394</td>\n",
       "    </tr>\n",
       "    <tr>\n",
       "      <th>19877</th>\n",
       "      <td>2.01</td>\n",
       "      <td>Premium</td>\n",
       "      <td>I</td>\n",
       "      <td>VS2</td>\n",
       "      <td>60.3</td>\n",
       "      <td>62.0</td>\n",
       "      <td>8.13</td>\n",
       "      <td>8.08</td>\n",
       "      <td>4.89</td>\n",
       "      <td>15939</td>\n",
       "    </tr>\n",
       "    <tr>\n",
       "      <th>20301</th>\n",
       "      <td>0.30</td>\n",
       "      <td>Ideal</td>\n",
       "      <td>H</td>\n",
       "      <td>SI1</td>\n",
       "      <td>62.2</td>\n",
       "      <td>57.0</td>\n",
       "      <td>4.26</td>\n",
       "      <td>4.29</td>\n",
       "      <td>2.66</td>\n",
       "      <td>450</td>\n",
       "    </tr>\n",
       "    <tr>\n",
       "      <th>20760</th>\n",
       "      <td>1.80</td>\n",
       "      <td>Ideal</td>\n",
       "      <td>H</td>\n",
       "      <td>VS1</td>\n",
       "      <td>62.3</td>\n",
       "      <td>56.0</td>\n",
       "      <td>7.79</td>\n",
       "      <td>7.76</td>\n",
       "      <td>4.84</td>\n",
       "      <td>15105</td>\n",
       "    </tr>\n",
       "    <tr>\n",
       "      <th>22322</th>\n",
       "      <td>2.05</td>\n",
       "      <td>Premium</td>\n",
       "      <td>I</td>\n",
       "      <td>SI2</td>\n",
       "      <td>62.0</td>\n",
       "      <td>58.0</td>\n",
       "      <td>8.13</td>\n",
       "      <td>8.08</td>\n",
       "      <td>5.02</td>\n",
       "      <td>9850</td>\n",
       "    </tr>\n",
       "    <tr>\n",
       "      <th>22488</th>\n",
       "      <td>2.42</td>\n",
       "      <td>Premium</td>\n",
       "      <td>J</td>\n",
       "      <td>VS2</td>\n",
       "      <td>61.3</td>\n",
       "      <td>59.0</td>\n",
       "      <td>8.61</td>\n",
       "      <td>8.58</td>\n",
       "      <td>5.27</td>\n",
       "      <td>17168</td>\n",
       "    </tr>\n",
       "    <tr>\n",
       "      <th>22583</th>\n",
       "      <td>0.33</td>\n",
       "      <td>Ideal</td>\n",
       "      <td>F</td>\n",
       "      <td>IF</td>\n",
       "      <td>61.2</td>\n",
       "      <td>56.0</td>\n",
       "      <td>4.47</td>\n",
       "      <td>4.49</td>\n",
       "      <td>2.74</td>\n",
       "      <td>1240</td>\n",
       "    </tr>\n",
       "    <tr>\n",
       "      <th>23458</th>\n",
       "      <td>2.66</td>\n",
       "      <td>Good</td>\n",
       "      <td>H</td>\n",
       "      <td>SI2</td>\n",
       "      <td>63.8</td>\n",
       "      <td>57.0</td>\n",
       "      <td>8.71</td>\n",
       "      <td>8.65</td>\n",
       "      <td>5.54</td>\n",
       "      <td>16239</td>\n",
       "    </tr>\n",
       "    <tr>\n",
       "      <th>23564</th>\n",
       "      <td>1.50</td>\n",
       "      <td>Premium</td>\n",
       "      <td>F</td>\n",
       "      <td>SI2</td>\n",
       "      <td>58.5</td>\n",
       "      <td>60.0</td>\n",
       "      <td>7.52</td>\n",
       "      <td>7.48</td>\n",
       "      <td>4.39</td>\n",
       "      <td>7644</td>\n",
       "    </tr>\n",
       "    <tr>\n",
       "      <th>24351</th>\n",
       "      <td>2.50</td>\n",
       "      <td>Fair</td>\n",
       "      <td>H</td>\n",
       "      <td>SI2</td>\n",
       "      <td>64.9</td>\n",
       "      <td>58.0</td>\n",
       "      <td>8.46</td>\n",
       "      <td>8.43</td>\n",
       "      <td>5.48</td>\n",
       "      <td>13278</td>\n",
       "    </tr>\n",
       "    <tr>\n",
       "      <th>24816</th>\n",
       "      <td>1.50</td>\n",
       "      <td>Good</td>\n",
       "      <td>G</td>\n",
       "      <td>SI2</td>\n",
       "      <td>57.5</td>\n",
       "      <td>63.0</td>\n",
       "      <td>7.53</td>\n",
       "      <td>7.49</td>\n",
       "      <td>4.32</td>\n",
       "      <td>6006</td>\n",
       "    </tr>\n",
       "    <tr>\n",
       "      <th>25268</th>\n",
       "      <td>1.20</td>\n",
       "      <td>Premium</td>\n",
       "      <td>I</td>\n",
       "      <td>VS2</td>\n",
       "      <td>62.6</td>\n",
       "      <td>58.0</td>\n",
       "      <td>6.77</td>\n",
       "      <td>6.72</td>\n",
       "      <td>4.22</td>\n",
       "      <td>5699</td>\n",
       "    </tr>\n",
       "    <tr>\n",
       "      <th>25759</th>\n",
       "      <td>0.30</td>\n",
       "      <td>Ideal</td>\n",
       "      <td>G</td>\n",
       "      <td>IF</td>\n",
       "      <td>62.1</td>\n",
       "      <td>55.0</td>\n",
       "      <td>4.32</td>\n",
       "      <td>4.35</td>\n",
       "      <td>2.69</td>\n",
       "      <td>863</td>\n",
       "    </tr>\n",
       "    <tr>\n",
       "      <th>25941</th>\n",
       "      <td>0.51</td>\n",
       "      <td>Premium</td>\n",
       "      <td>F</td>\n",
       "      <td>SI2</td>\n",
       "      <td>58.1</td>\n",
       "      <td>59.0</td>\n",
       "      <td>5.26</td>\n",
       "      <td>5.24</td>\n",
       "      <td>3.05</td>\n",
       "      <td>1052</td>\n",
       "    </tr>\n",
       "    <tr>\n",
       "      <th>26191</th>\n",
       "      <td>2.54</td>\n",
       "      <td>Very Good</td>\n",
       "      <td>H</td>\n",
       "      <td>SI2</td>\n",
       "      <td>63.5</td>\n",
       "      <td>56.0</td>\n",
       "      <td>8.68</td>\n",
       "      <td>8.65</td>\n",
       "      <td>5.50</td>\n",
       "      <td>16353</td>\n",
       "    </tr>\n",
       "    <tr>\n",
       "      <th>26530</th>\n",
       "      <td>0.41</td>\n",
       "      <td>Ideal</td>\n",
       "      <td>G</td>\n",
       "      <td>IF</td>\n",
       "      <td>61.7</td>\n",
       "      <td>56.0</td>\n",
       "      <td>4.77</td>\n",
       "      <td>4.80</td>\n",
       "      <td>2.95</td>\n",
       "      <td>1367</td>\n",
       "    </tr>\n",
       "  </tbody>\n",
       "</table>\n",
       "</div>"
      ],
      "text/plain": [
       "       carat        cut color clarity  depth  table     x     y     z  price\n",
       "4756    0.35    Premium     J     VS1   62.4   58.0  5.67  5.64  3.53    949\n",
       "6215    0.71       Good     F     SI2   64.1   60.0  0.00  0.00  0.00   2130\n",
       "8144    0.33      Ideal     G     VS1   62.1   55.0  4.46  4.43  2.76    854\n",
       "8919    1.52       Good     E      I1   57.3   58.0  7.53  7.42  4.28   3105\n",
       "9818    0.35      Ideal     F     VS2   61.4   54.0  4.58  4.54  2.80    906\n",
       "10473   0.79      Ideal     G     SI1   62.3   57.0  5.90  5.85  3.66   2898\n",
       "10500   1.00    Premium     F    VVS2   60.6   54.0  6.56  6.52  3.96   8924\n",
       "12894   1.21    Premium     D     SI2   62.5   57.0  6.79  6.71  4.22   6505\n",
       "13547   0.43      Ideal     G     VS1   61.9   55.0  4.84  4.86  3.00    943\n",
       "13783   0.79      Ideal     G     SI1   62.3   57.0  5.90  5.85  3.66   2898\n",
       "14389   0.60    Premium     D     SI2   62.0   57.0  5.43  5.35  3.34   1196\n",
       "14410   1.00  Very Good     D     SI1   63.1   56.0  6.34  6.30  3.99   5645\n",
       "15798   0.90  Very Good     I     VS2   58.4   62.0  6.29  6.35  3.69   3334\n",
       "16852   0.79      Ideal     G     SI1   62.3   57.0  5.90  5.85  3.66   2898\n",
       "17263   1.04    Premium     I     SI2   62.0   57.0  6.53  6.47  4.03   3774\n",
       "18025   1.51       Good     I     SI1   63.8   57.0  7.21  7.18  4.59   6046\n",
       "18777   0.32    Premium     H     VS2   60.6   58.0  4.47  4.44  2.70    648\n",
       "18837   1.01    Premium     H     VS1   61.2   61.0  6.44  6.41  3.93   5294\n",
       "19731   0.30       Good     J     VS1   63.4   57.0  4.23  4.26  2.69    394\n",
       "19877   2.01    Premium     I     VS2   60.3   62.0  8.13  8.08  4.89  15939\n",
       "20301   0.30      Ideal     H     SI1   62.2   57.0  4.26  4.29  2.66    450\n",
       "20760   1.80      Ideal     H     VS1   62.3   56.0  7.79  7.76  4.84  15105\n",
       "22322   2.05    Premium     I     SI2   62.0   58.0  8.13  8.08  5.02   9850\n",
       "22488   2.42    Premium     J     VS2   61.3   59.0  8.61  8.58  5.27  17168\n",
       "22583   0.33      Ideal     F      IF   61.2   56.0  4.47  4.49  2.74   1240\n",
       "23458   2.66       Good     H     SI2   63.8   57.0  8.71  8.65  5.54  16239\n",
       "23564   1.50    Premium     F     SI2   58.5   60.0  7.52  7.48  4.39   7644\n",
       "24351   2.50       Fair     H     SI2   64.9   58.0  8.46  8.43  5.48  13278\n",
       "24816   1.50       Good     G     SI2   57.5   63.0  7.53  7.49  4.32   6006\n",
       "25268   1.20    Premium     I     VS2   62.6   58.0  6.77  6.72  4.22   5699\n",
       "25759   0.30      Ideal     G      IF   62.1   55.0  4.32  4.35  2.69    863\n",
       "25941   0.51    Premium     F     SI2   58.1   59.0  5.26  5.24  3.05   1052\n",
       "26191   2.54  Very Good     H     SI2   63.5   56.0  8.68  8.65  5.50  16353\n",
       "26530   0.41      Ideal     G      IF   61.7   56.0  4.77  4.80  2.95   1367"
      ]
     },
     "execution_count": 9,
     "metadata": {},
     "output_type": "execute_result"
    }
   ],
   "source": [
    "#Duplicates check\n",
    "dups = df_diamond.duplicated()\n",
    "print('Number of duplicate rows = %d' % (dups.sum()))\n",
    "\n",
    "df_diamond[dups]"
   ]
  },
  {
   "cell_type": "code",
   "execution_count": 10,
   "metadata": {},
   "outputs": [],
   "source": [
    "#Dropping Duplicates\n",
    "df_diamond.drop_duplicates(inplace=True)"
   ]
  },
  {
   "cell_type": "code",
   "execution_count": 11,
   "metadata": {},
   "outputs": [
    {
     "name": "stdout",
     "output_type": "stream",
     "text": [
      "Skewness of the Dataset:\n",
      " carat    1.114789\n",
      "depth   -0.026086\n",
      "table    0.765805\n",
      "x        0.392290\n",
      "y        3.867764\n",
      "z        2.580665\n",
      "price    1.619116\n",
      "dtype: float64\n"
     ]
    }
   ],
   "source": [
    "#Skewness check\n",
    "skew = df_diamond.skew() \n",
    "print(\"Skewness of the Dataset:\\n\",skew)"
   ]
  },
  {
   "cell_type": "code",
   "execution_count": 12,
   "metadata": {},
   "outputs": [
    {
     "name": "stdout",
     "output_type": "stream",
     "text": [
      "Cut Distribution \n",
      " Ideal        10805\n",
      "Premium       6886\n",
      "Very Good     6027\n",
      "Good          2435\n",
      "Fair           780\n",
      "Name: cut, dtype: int64\n",
      "\n",
      "\n",
      "Colour Distribution \n",
      " G    5653\n",
      "E    4916\n",
      "F    4723\n",
      "H    4095\n",
      "D    3341\n",
      "I    2765\n",
      "J    1440\n",
      "Name: color, dtype: int64\n",
      "\n",
      "\n",
      "Clarity Distribution \n",
      " SI1     6565\n",
      "VS2     6093\n",
      "SI2     4564\n",
      "VS1     4087\n",
      "VVS2    2530\n",
      "VVS1    1839\n",
      "IF       891\n",
      "I1       364\n",
      "Name: clarity, dtype: int64\n"
     ]
    }
   ],
   "source": [
    "#spread value counts for object datatypes\n",
    "print('Cut Distribution \\n',df_diamond.cut.value_counts())\n",
    "print('\\n')\n",
    "print('Colour Distribution \\n',df_diamond.color.value_counts())\n",
    "print('\\n')\n",
    "print('Clarity Distribution \\n',df_diamond.clarity.value_counts())"
   ]
  },
  {
   "cell_type": "code",
   "execution_count": 13,
   "metadata": {},
   "outputs": [
    {
     "name": "stdout",
     "output_type": "stream",
     "text": [
      "carat    0.598034\n",
      "depth    0.022872\n",
      "table    0.038850\n",
      "x        0.196771\n",
      "y        0.203212\n",
      "z        0.203508\n",
      "price    1.021594\n",
      "dtype: float64\n"
     ]
    }
   ],
   "source": [
    "#Coefficient of Variation\n",
    "cv = df_diamond.std()/df_diamond.mean()\n",
    "print(cv)"
   ]
  },
  {
   "cell_type": "code",
   "execution_count": 14,
   "metadata": {},
   "outputs": [
    {
     "data": {
      "text/plain": [
       "Index(['carat', 'cut', 'color', 'clarity', 'depth', 'table', 'x', 'y', 'z',\n",
       "       'price'],\n",
       "      dtype='object')"
      ]
     },
     "execution_count": 14,
     "metadata": {},
     "output_type": "execute_result"
    }
   ],
   "source": [
    "df_diamond.columns"
   ]
  },
  {
   "cell_type": "code",
   "execution_count": 15,
   "metadata": {},
   "outputs": [
    {
     "data": {
      "image/png": "[encoded data removed]",
      "text/plain": [
       "<Figure size 2160x3600 with 14 Axes>"
      ]
     },
     "metadata": {
      "needs_background": "light"
     },
     "output_type": "display_data"
    }
   ],
   "source": [
    "#univariate analysis (Distplot and Boxplot)\n",
    "fig, axes = plt.subplots(nrows=7,ncols=2)\n",
    "fig.set_size_inches(30, 50)\n",
    "\n",
    "a = sns.distplot(df_diamond['carat'] , ax=axes[0][0])\n",
    "a.set_title(\"carat Distribution\",fontsize=25)\n",
    "a = sns.boxplot(df_diamond['carat'] , orient = \"v\" , ax=axes[0][1])\n",
    "a.set_title(\"carat Distribution\",fontsize=25)\n",
    "\n",
    "a = sns.distplot(df_diamond['depth'] , ax=axes[1][0])\n",
    "a.set_title(\"depth Distribution\",fontsize=25)\n",
    "a = sns.boxplot(df_diamond['depth'] , orient = \"v\" , ax=axes[1][1])\n",
    "a.set_title(\"depth Distribution\",fontsize=25)\n",
    "\n",
    "a = sns.distplot(df_diamond['table'] , ax=axes[2][0])\n",
    "a.set_title(\"table Distribution\",fontsize=25)\n",
    "a = sns.boxplot(df_diamond['table'] , orient = \"v\" , ax=axes[2][1])\n",
    "a.set_title(\"table Distribution\",fontsize=25)\n",
    "\n",
    "a = sns.distplot(df_diamond['x'] , ax=axes[3][0])\n",
    "a.set_title(\"x Distribution\",fontsize=25)\n",
    "a = sns.boxplot(df_diamond['x'] , orient = \"v\" , ax=axes[3][1])\n",
    "a.set_title(\"x Distribution\",fontsize=25)\n",
    "\n",
    "a = sns.distplot(df_diamond['y'] , ax=axes[4][0])\n",
    "a.set_title(\"y Distribution\",fontsize=25)\n",
    "a = sns.boxplot(df_diamond['y'] , orient = \"v\" , ax=axes[4][1])\n",
    "a.set_title(\"y Distribution\",fontsize=25)\n",
    "\n",
    "a = sns.distplot(df_diamond['z'] , ax=axes[5][0])\n",
    "a.set_title(\"z Distribution\",fontsize=25)\n",
    "a = sns.boxplot(df_diamond['z'] , orient = \"v\" , ax=axes[5][1])\n",
    "a.set_title(\"z Distribution\",fontsize=25)\n",
    "\n",
    "a = sns.distplot(df_diamond['price'] , ax=axes[6][0])\n",
    "a.set_title(\"price Distribution\",fontsize=25)\n",
    "a = sns.boxplot(df_diamond['price'] , orient = \"v\" , ax=axes[6][1])\n",
    "a.set_title(\"price Distribution\",fontsize=25)\n",
    "\n",
    "\n",
    "plt.show()"
   ]
  },
  {
   "cell_type": "code",
   "execution_count": 16,
   "metadata": {},
   "outputs": [
    {
     "data": {
      "text/html": [
       "<div>\n",
       "<style scoped>\n",
       "    .dataframe tbody tr th:only-of-type {\n",
       "        vertical-align: middle;\n",
       "    }\n",
       "\n",
       "    .dataframe tbody tr th {\n",
       "        vertical-align: top;\n",
       "    }\n",
       "\n",
       "    .dataframe thead th {\n",
       "        text-align: right;\n",
       "    }\n",
       "</style>\n",
       "<table border=\"1\" class=\"dataframe\">\n",
       "  <thead>\n",
       "    <tr style=\"text-align: right;\">\n",
       "      <th></th>\n",
       "      <th>carat</th>\n",
       "      <th>depth</th>\n",
       "      <th>table</th>\n",
       "      <th>x</th>\n",
       "      <th>y</th>\n",
       "      <th>z</th>\n",
       "      <th>price</th>\n",
       "    </tr>\n",
       "  </thead>\n",
       "  <tbody>\n",
       "    <tr>\n",
       "      <th>carat</th>\n",
       "      <td>0.227755</td>\n",
       "      <td>0.023724</td>\n",
       "      <td>0.193388</td>\n",
       "      <td>0.525571</td>\n",
       "      <td>0.523441</td>\n",
       "      <td>0.323315</td>\n",
       "      <td>1.770758e+03</td>\n",
       "    </tr>\n",
       "    <tr>\n",
       "      <th>depth</th>\n",
       "      <td>0.023724</td>\n",
       "      <td>1.994429</td>\n",
       "      <td>-0.938126</td>\n",
       "      <td>-0.029269</td>\n",
       "      <td>-0.040241</td>\n",
       "      <td>0.100607</td>\n",
       "      <td>-1.643333e+01</td>\n",
       "    </tr>\n",
       "    <tr>\n",
       "      <th>table</th>\n",
       "      <td>0.193388</td>\n",
       "      <td>-0.938126</td>\n",
       "      <td>4.982523</td>\n",
       "      <td>0.493865</td>\n",
       "      <td>0.474215</td>\n",
       "      <td>0.239445</td>\n",
       "      <td>1.138925e+03</td>\n",
       "    </tr>\n",
       "    <tr>\n",
       "      <th>x</th>\n",
       "      <td>0.525571</td>\n",
       "      <td>-0.029269</td>\n",
       "      <td>0.493865</td>\n",
       "      <td>1.270955</td>\n",
       "      <td>1.264303</td>\n",
       "      <td>0.776348</td>\n",
       "      <td>4.020423e+03</td>\n",
       "    </tr>\n",
       "    <tr>\n",
       "      <th>y</th>\n",
       "      <td>0.523441</td>\n",
       "      <td>-0.040241</td>\n",
       "      <td>0.474215</td>\n",
       "      <td>1.264303</td>\n",
       "      <td>1.357312</td>\n",
       "      <td>0.779000</td>\n",
       "      <td>4.013644e+03</td>\n",
       "    </tr>\n",
       "    <tr>\n",
       "      <th>z</th>\n",
       "      <td>0.323315</td>\n",
       "      <td>0.100607</td>\n",
       "      <td>0.239445</td>\n",
       "      <td>0.776348</td>\n",
       "      <td>0.779000</td>\n",
       "      <td>0.518348</td>\n",
       "      <td>2.463654e+03</td>\n",
       "    </tr>\n",
       "    <tr>\n",
       "      <th>price</th>\n",
       "      <td>1770.758399</td>\n",
       "      <td>-16.433328</td>\n",
       "      <td>1138.925074</td>\n",
       "      <td>4020.423164</td>\n",
       "      <td>4013.643872</td>\n",
       "      <td>2463.653531</td>\n",
       "      <td>1.618092e+07</td>\n",
       "    </tr>\n",
       "  </tbody>\n",
       "</table>\n",
       "</div>"
      ],
      "text/plain": [
       "             carat      depth        table            x            y  \\\n",
       "carat     0.227755   0.023724     0.193388     0.525571     0.523441   \n",
       "depth     0.023724   1.994429    -0.938126    -0.029269    -0.040241   \n",
       "table     0.193388  -0.938126     4.982523     0.493865     0.474215   \n",
       "x         0.525571  -0.029269     0.493865     1.270955     1.264303   \n",
       "y         0.523441  -0.040241     0.474215     1.264303     1.357312   \n",
       "z         0.323315   0.100607     0.239445     0.776348     0.779000   \n",
       "price  1770.758399 -16.433328  1138.925074  4020.423164  4013.643872   \n",
       "\n",
       "                 z         price  \n",
       "carat     0.323315  1.770758e+03  \n",
       "depth     0.100607 -1.643333e+01  \n",
       "table     0.239445  1.138925e+03  \n",
       "x         0.776348  4.020423e+03  \n",
       "y         0.779000  4.013644e+03  \n",
       "z         0.518348  2.463654e+03  \n",
       "price  2463.653531  1.618092e+07  "
      ]
     },
     "execution_count": 16,
     "metadata": {},
     "output_type": "execute_result"
    }
   ],
   "source": [
    "#covariance check\n",
    "df_diamond.cov()"
   ]
  },
  {
   "cell_type": "code",
   "execution_count": 17,
   "metadata": {},
   "outputs": [
    {
     "data": {
      "text/html": [
       "<div>\n",
       "<style scoped>\n",
       "    .dataframe tbody tr th:only-of-type {\n",
       "        vertical-align: middle;\n",
       "    }\n",
       "\n",
       "    .dataframe tbody tr th {\n",
       "        vertical-align: top;\n",
       "    }\n",
       "\n",
       "    .dataframe thead th {\n",
       "        text-align: right;\n",
       "    }\n",
       "</style>\n",
       "<table border=\"1\" class=\"dataframe\">\n",
       "  <thead>\n",
       "    <tr style=\"text-align: right;\">\n",
       "      <th></th>\n",
       "      <th>carat</th>\n",
       "      <th>depth</th>\n",
       "      <th>table</th>\n",
       "      <th>x</th>\n",
       "      <th>y</th>\n",
       "      <th>z</th>\n",
       "      <th>price</th>\n",
       "    </tr>\n",
       "  </thead>\n",
       "  <tbody>\n",
       "    <tr>\n",
       "      <th>carat</th>\n",
       "      <td>1.000000</td>\n",
       "      <td>0.035240</td>\n",
       "      <td>0.181539</td>\n",
       "      <td>0.976858</td>\n",
       "      <td>0.941442</td>\n",
       "      <td>0.940982</td>\n",
       "      <td>0.922409</td>\n",
       "    </tr>\n",
       "    <tr>\n",
       "      <th>depth</th>\n",
       "      <td>0.035240</td>\n",
       "      <td>1.000000</td>\n",
       "      <td>-0.297768</td>\n",
       "      <td>-0.018401</td>\n",
       "      <td>-0.024453</td>\n",
       "      <td>0.101973</td>\n",
       "      <td>-0.002895</td>\n",
       "    </tr>\n",
       "    <tr>\n",
       "      <th>table</th>\n",
       "      <td>0.181539</td>\n",
       "      <td>-0.297768</td>\n",
       "      <td>1.000000</td>\n",
       "      <td>0.196254</td>\n",
       "      <td>0.182352</td>\n",
       "      <td>0.148994</td>\n",
       "      <td>0.126844</td>\n",
       "    </tr>\n",
       "    <tr>\n",
       "      <th>x</th>\n",
       "      <td>0.976858</td>\n",
       "      <td>-0.018401</td>\n",
       "      <td>0.196254</td>\n",
       "      <td>1.000000</td>\n",
       "      <td>0.962601</td>\n",
       "      <td>0.956490</td>\n",
       "      <td>0.886554</td>\n",
       "    </tr>\n",
       "    <tr>\n",
       "      <th>y</th>\n",
       "      <td>0.941442</td>\n",
       "      <td>-0.024453</td>\n",
       "      <td>0.182352</td>\n",
       "      <td>0.962601</td>\n",
       "      <td>1.000000</td>\n",
       "      <td>0.928725</td>\n",
       "      <td>0.856441</td>\n",
       "    </tr>\n",
       "    <tr>\n",
       "      <th>z</th>\n",
       "      <td>0.940982</td>\n",
       "      <td>0.101973</td>\n",
       "      <td>0.148994</td>\n",
       "      <td>0.956490</td>\n",
       "      <td>0.928725</td>\n",
       "      <td>1.000000</td>\n",
       "      <td>0.850682</td>\n",
       "    </tr>\n",
       "    <tr>\n",
       "      <th>price</th>\n",
       "      <td>0.922409</td>\n",
       "      <td>-0.002895</td>\n",
       "      <td>0.126844</td>\n",
       "      <td>0.886554</td>\n",
       "      <td>0.856441</td>\n",
       "      <td>0.850682</td>\n",
       "      <td>1.000000</td>\n",
       "    </tr>\n",
       "  </tbody>\n",
       "</table>\n",
       "</div>"
      ],
      "text/plain": [
       "          carat     depth     table         x         y         z     price\n",
       "carat  1.000000  0.035240  0.181539  0.976858  0.941442  0.940982  0.922409\n",
       "depth  0.035240  1.000000 -0.297768 -0.018401 -0.024453  0.101973 -0.002895\n",
       "table  0.181539 -0.297768  1.000000  0.196254  0.182352  0.148994  0.126844\n",
       "x      0.976858 -0.018401  0.196254  1.000000  0.962601  0.956490  0.886554\n",
       "y      0.941442 -0.024453  0.182352  0.962601  1.000000  0.928725  0.856441\n",
       "z      0.940982  0.101973  0.148994  0.956490  0.928725  1.000000  0.850682\n",
       "price  0.922409 -0.002895  0.126844  0.886554  0.856441  0.850682  1.000000"
      ]
     },
     "execution_count": 17,
     "metadata": {},
     "output_type": "execute_result"
    }
   ],
   "source": [
    "#correlation check\n",
    "df_diamond.corr()"
   ]
  },
  {
   "cell_type": "code",
   "execution_count": 18,
   "metadata": {},
   "outputs": [
    {
     "data": {
      "image/png": "[encoded data removed]",
      "text/plain": [
       "<Figure size 1080x360 with 1 Axes>"
      ]
     },
     "metadata": {
      "needs_background": "light"
     },
     "output_type": "display_data"
    }
   ],
   "source": [
    "#Bivariate Analysis\n",
    "#Color Vs Price\n",
    "plt.figure(figsize=(15,5))\n",
    "ax = sns.barplot(x='color', y='price',data=df_diamond)\n"
   ]
  },
  {
   "cell_type": "code",
   "execution_count": 19,
   "metadata": {},
   "outputs": [
    {
     "data": {
      "image/png": "[encoded data removed]",
      "text/plain": [
       "<Figure size 1080x360 with 1 Axes>"
      ]
     },
     "metadata": {
      "needs_background": "light"
     },
     "output_type": "display_data"
    }
   ],
   "source": [
    "#Cut Vs Price\n",
    "plt.figure(figsize=(15,5))\n",
    "ax = sns.barplot(x='cut', y='price',data=df_diamond)"
   ]
  },
  {
   "cell_type": "code",
   "execution_count": 20,
   "metadata": {},
   "outputs": [
    {
     "data": {
      "image/png": "[encoded data removed]",
      "text/plain": [
       "<Figure size 1080x360 with 1 Axes>"
      ]
     },
     "metadata": {
      "needs_background": "light"
     },
     "output_type": "display_data"
    }
   ],
   "source": [
    "#clarity vs price\n",
    "plt.figure(figsize=(15,5))\n",
    "ax = sns.barplot(x='clarity', y='price',data=df_diamond)"
   ]
  },
  {
   "cell_type": "code",
   "execution_count": 21,
   "metadata": {},
   "outputs": [
    {
     "data": {
      "image/png": "[encoded data removed]",
      "text/plain": [
       "<Figure size 1440x720 with 2 Axes>"
      ]
     },
     "metadata": {
      "needs_background": "light"
     },
     "output_type": "display_data"
    }
   ],
   "source": [
    "#Heatmap\n",
    "fig,ax = plt.subplots(figsize=(20,10))   \n",
    "sns.heatmap(df_diamond.corr(), ax=ax, annot=True, linewidths=0.05, fmt= '.2f',cmap=\"cubehelix\") \n",
    "plt.show()"
   ]
  },
  {
   "cell_type": "code",
   "execution_count": 22,
   "metadata": {},
   "outputs": [
    {
     "data": {
      "image/png": "[encoded data removed]",
      "text/plain": [
       "<Figure size 1260x1260 with 56 Axes>"
      ]
     },
     "metadata": {
      "needs_background": "light"
     },
     "output_type": "display_data"
    }
   ],
   "source": [
    "# #Bivariate analysis - Pair plot\n",
    "sns.pairplot(df_diamond, kind=\"reg\")  \n",
    "plt.show()"
   ]
  },
  {
   "cell_type": "code",
   "execution_count": 23,
   "metadata": {},
   "outputs": [
    {
     "data": {
      "text/plain": [
       "<AxesSubplot:xlabel='carat', ylabel='price'>"
      ]
     },
     "execution_count": 23,
     "metadata": {},
     "output_type": "execute_result"
    },
    {
     "data": {
      "image/png": "[encoded data removed]",
      "text/plain": [
       "<Figure size 432x288 with 1 Axes>"
      ]
     },
     "metadata": {
      "needs_background": "light"
     },
     "output_type": "display_data"
    }
   ],
   "source": [
    "#ScatterPlot - Carat Vs Price\n",
    "sns.scatterplot(x='carat', y='price', data=df_diamond)  "
   ]
  },
  {
   "cell_type": "markdown",
   "metadata": {},
   "source": [
    "## 1.2 Impute null values if present, also check for the values which are equal to zero. Do they have any meaning or do we need to change them or drop them? Do you think scaling is necessary in this case?"
   ]
  },
  {
   "cell_type": "code",
   "execution_count": 24,
   "metadata": {},
   "outputs": [
    {
     "data": {
      "text/plain": [
       "carat        0\n",
       "cut          0\n",
       "color        0\n",
       "clarity      0\n",
       "depth      697\n",
       "table        0\n",
       "x            0\n",
       "y            0\n",
       "z            0\n",
       "price        0\n",
       "dtype: int64"
      ]
     },
     "execution_count": 24,
     "metadata": {},
     "output_type": "execute_result"
    }
   ],
   "source": [
    "#Null Values check\n",
    "df_diamond.isnull().sum() "
   ]
  },
  {
   "cell_type": "code",
   "execution_count": 25,
   "metadata": {},
   "outputs": [
    {
     "data": {
      "text/plain": [
       "carat      0\n",
       "cut        0\n",
       "color      0\n",
       "clarity    0\n",
       "depth      0\n",
       "table      0\n",
       "x          0\n",
       "y          0\n",
       "z          0\n",
       "price      0\n",
       "dtype: int64"
      ]
     },
     "execution_count": 25,
     "metadata": {},
     "output_type": "execute_result"
    }
   ],
   "source": [
    "#Null Values Imputation\n",
    "for column in df_diamond.columns:\n",
    "    if df_diamond[column].dtype != 'object':\n",
    "        df_diamond_median = df_diamond[column].median()\n",
    "        df_diamond[column] = df_diamond[column].fillna(df_diamond_median)    \n",
    "        \n",
    "df_diamond.isnull().sum()       "
   ]
  },
  {
   "cell_type": "code",
   "execution_count": 26,
   "metadata": {},
   "outputs": [
    {
     "name": "stdout",
     "output_type": "stream",
     "text": [
      "[]\n",
      "[]\n",
      "[]\n",
      "[]\n",
      "[]\n",
      "[]\n",
      "[5821, 17506]\n",
      "[5821, 17506]\n",
      "[5821, 6034, 10827, 12498, 12689, 17506, 18194, 23758]\n",
      "[]\n"
     ]
    }
   ],
   "source": [
    "#Checking for columns with values as 0\n",
    "for i in df_diamond.columns:\n",
    "    print(df_diamond[df_diamond[i]==0].index.tolist())"
   ]
  },
  {
   "cell_type": "code",
   "execution_count": 27,
   "metadata": {},
   "outputs": [
    {
     "data": {
      "text/html": [
       "<div>\n",
       "<style scoped>\n",
       "    .dataframe tbody tr th:only-of-type {\n",
       "        vertical-align: middle;\n",
       "    }\n",
       "\n",
       "    .dataframe tbody tr th {\n",
       "        vertical-align: top;\n",
       "    }\n",
       "\n",
       "    .dataframe thead th {\n",
       "        text-align: right;\n",
       "    }\n",
       "</style>\n",
       "<table border=\"1\" class=\"dataframe\">\n",
       "  <thead>\n",
       "    <tr style=\"text-align: right;\">\n",
       "      <th></th>\n",
       "      <th>carat</th>\n",
       "      <th>cut</th>\n",
       "      <th>color</th>\n",
       "      <th>clarity</th>\n",
       "      <th>depth</th>\n",
       "      <th>table</th>\n",
       "      <th>x</th>\n",
       "      <th>y</th>\n",
       "      <th>z</th>\n",
       "      <th>price</th>\n",
       "    </tr>\n",
       "  </thead>\n",
       "  <tbody>\n",
       "    <tr>\n",
       "      <th>5821</th>\n",
       "      <td>0.71</td>\n",
       "      <td>Good</td>\n",
       "      <td>F</td>\n",
       "      <td>SI2</td>\n",
       "      <td>64.1</td>\n",
       "      <td>60.0</td>\n",
       "      <td>0.00</td>\n",
       "      <td>0.00</td>\n",
       "      <td>0.0</td>\n",
       "      <td>2130</td>\n",
       "    </tr>\n",
       "    <tr>\n",
       "      <th>6034</th>\n",
       "      <td>2.02</td>\n",
       "      <td>Premium</td>\n",
       "      <td>H</td>\n",
       "      <td>VS2</td>\n",
       "      <td>62.7</td>\n",
       "      <td>53.0</td>\n",
       "      <td>8.02</td>\n",
       "      <td>7.95</td>\n",
       "      <td>0.0</td>\n",
       "      <td>18207</td>\n",
       "    </tr>\n",
       "    <tr>\n",
       "      <th>10827</th>\n",
       "      <td>2.20</td>\n",
       "      <td>Premium</td>\n",
       "      <td>H</td>\n",
       "      <td>SI1</td>\n",
       "      <td>61.2</td>\n",
       "      <td>59.0</td>\n",
       "      <td>8.42</td>\n",
       "      <td>8.37</td>\n",
       "      <td>0.0</td>\n",
       "      <td>17265</td>\n",
       "    </tr>\n",
       "    <tr>\n",
       "      <th>12498</th>\n",
       "      <td>2.18</td>\n",
       "      <td>Premium</td>\n",
       "      <td>H</td>\n",
       "      <td>SI2</td>\n",
       "      <td>59.4</td>\n",
       "      <td>61.0</td>\n",
       "      <td>8.49</td>\n",
       "      <td>8.45</td>\n",
       "      <td>0.0</td>\n",
       "      <td>12631</td>\n",
       "    </tr>\n",
       "    <tr>\n",
       "      <th>12689</th>\n",
       "      <td>1.10</td>\n",
       "      <td>Premium</td>\n",
       "      <td>G</td>\n",
       "      <td>SI2</td>\n",
       "      <td>63.0</td>\n",
       "      <td>59.0</td>\n",
       "      <td>6.50</td>\n",
       "      <td>6.47</td>\n",
       "      <td>0.0</td>\n",
       "      <td>3696</td>\n",
       "    </tr>\n",
       "    <tr>\n",
       "      <th>17506</th>\n",
       "      <td>1.14</td>\n",
       "      <td>Fair</td>\n",
       "      <td>G</td>\n",
       "      <td>VS1</td>\n",
       "      <td>57.5</td>\n",
       "      <td>67.0</td>\n",
       "      <td>0.00</td>\n",
       "      <td>0.00</td>\n",
       "      <td>0.0</td>\n",
       "      <td>6381</td>\n",
       "    </tr>\n",
       "    <tr>\n",
       "      <th>18194</th>\n",
       "      <td>1.01</td>\n",
       "      <td>Premium</td>\n",
       "      <td>H</td>\n",
       "      <td>I1</td>\n",
       "      <td>58.1</td>\n",
       "      <td>59.0</td>\n",
       "      <td>6.66</td>\n",
       "      <td>6.60</td>\n",
       "      <td>0.0</td>\n",
       "      <td>3167</td>\n",
       "    </tr>\n",
       "    <tr>\n",
       "      <th>23758</th>\n",
       "      <td>1.12</td>\n",
       "      <td>Premium</td>\n",
       "      <td>G</td>\n",
       "      <td>I1</td>\n",
       "      <td>60.4</td>\n",
       "      <td>59.0</td>\n",
       "      <td>6.71</td>\n",
       "      <td>6.67</td>\n",
       "      <td>0.0</td>\n",
       "      <td>2383</td>\n",
       "    </tr>\n",
       "  </tbody>\n",
       "</table>\n",
       "</div>"
      ],
      "text/plain": [
       "       carat      cut color clarity  depth  table     x     y    z  price\n",
       "5821    0.71     Good     F     SI2   64.1   60.0  0.00  0.00  0.0   2130\n",
       "6034    2.02  Premium     H     VS2   62.7   53.0  8.02  7.95  0.0  18207\n",
       "10827   2.20  Premium     H     SI1   61.2   59.0  8.42  8.37  0.0  17265\n",
       "12498   2.18  Premium     H     SI2   59.4   61.0  8.49  8.45  0.0  12631\n",
       "12689   1.10  Premium     G     SI2   63.0   59.0  6.50  6.47  0.0   3696\n",
       "17506   1.14     Fair     G     VS1   57.5   67.0  0.00  0.00  0.0   6381\n",
       "18194   1.01  Premium     H      I1   58.1   59.0  6.66  6.60  0.0   3167\n",
       "23758   1.12  Premium     G      I1   60.4   59.0  6.71  6.67  0.0   2383"
      ]
     },
     "execution_count": 27,
     "metadata": {},
     "output_type": "execute_result"
    }
   ],
   "source": [
    "# Zero values check in DataFrame\n",
    "df_diamond[(df_diamond['carat']== 0)|(df_diamond['depth']== 0)|(df_diamond['table']== 0)|(df_diamond['price']== 0)|(df_diamond['z']== 0)|(df_diamond['y']== 0)|(df_diamond['x']== 0)]"
   ]
  },
  {
   "cell_type": "code",
   "execution_count": 28,
   "metadata": {},
   "outputs": [],
   "source": [
    "#i = df_diamond[(df_diamond['z']== 0.00)&(df_diamond['y']== 0.00)&(df_diamond['x']== 0.00)].index"
   ]
  },
  {
   "cell_type": "code",
   "execution_count": 29,
   "metadata": {},
   "outputs": [],
   "source": [
    "#i"
   ]
  },
  {
   "cell_type": "code",
   "execution_count": 30,
   "metadata": {},
   "outputs": [],
   "source": [
    "#df_diamond.drop(i,inplace=True)"
   ]
  },
  {
   "cell_type": "code",
   "execution_count": 31,
   "metadata": {},
   "outputs": [],
   "source": [
    "#df_diamond['z']=df_diamond['z'].replace(0,df_diamond['z'].median())"
   ]
  },
  {
   "cell_type": "code",
   "execution_count": 32,
   "metadata": {},
   "outputs": [],
   "source": [
    "#nan values getting dropped\n",
    "df_diamond = df_diamond.replace(0, np.nan)\n",
    "df_diamond.dropna(inplace=True)"
   ]
  },
  {
   "cell_type": "code",
   "execution_count": 33,
   "metadata": {},
   "outputs": [
    {
     "data": {
      "text/plain": [
       "(26925, 10)"
      ]
     },
     "execution_count": 33,
     "metadata": {},
     "output_type": "execute_result"
    }
   ],
   "source": [
    "df_diamond.shape"
   ]
  },
  {
   "cell_type": "code",
   "execution_count": 34,
   "metadata": {},
   "outputs": [],
   "source": [
    "#Remove outlier function\n",
    "def remove_outlier(col):\n",
    "    sorted(col)\n",
    "    Q1,Q3=col.quantile([0.25,0.75])\n",
    "    IQR=Q3-Q1\n",
    "    lower_range= Q1-(1.5 * IQR)\n",
    "    upper_range= Q3+(1.5 * IQR)\n",
    "    return lower_range, upper_range "
   ]
  },
  {
   "cell_type": "code",
   "execution_count": 35,
   "metadata": {},
   "outputs": [
    {
     "name": "stdout",
     "output_type": "stream",
     "text": [
      "<class 'pandas.core.frame.DataFrame'>\n",
      "Int64Index: 26925 entries, 0 to 26966\n",
      "Data columns (total 10 columns):\n",
      " #   Column   Non-Null Count  Dtype  \n",
      "---  ------   --------------  -----  \n",
      " 0   carat    26925 non-null  float64\n",
      " 1   cut      26925 non-null  object \n",
      " 2   color    26925 non-null  object \n",
      " 3   clarity  26925 non-null  object \n",
      " 4   depth    26925 non-null  float64\n",
      " 5   table    26925 non-null  float64\n",
      " 6   x        26925 non-null  float64\n",
      " 7   y        26925 non-null  float64\n",
      " 8   z        26925 non-null  float64\n",
      " 9   price    26925 non-null  int64  \n",
      "dtypes: float64(6), int64(1), object(3)\n",
      "memory usage: 2.3+ MB\n"
     ]
    }
   ],
   "source": [
    "df_diamond.info()"
   ]
  },
  {
   "cell_type": "code",
   "execution_count": 36,
   "metadata": {},
   "outputs": [],
   "source": [
    "#Outlier removal\n",
    "dtypes=df_diamond.dtypes[(df_diamond.dtypes!= 'object')].index\n",
    "for column in df_diamond[dtypes].columns:\n",
    "    lr,ur=remove_outlier(df_diamond[column])\n",
    "    df_diamond[column]=np.where(df_diamond[column]>ur,ur,df_diamond[column])\n",
    "    df_diamond[column]=np.where(df_diamond[column]<lr,lr,df_diamond[column])"
   ]
  },
  {
   "cell_type": "code",
   "execution_count": 37,
   "metadata": {},
   "outputs": [
    {
     "data": {
      "text/plain": [
       "<AxesSubplot:>"
      ]
     },
     "execution_count": 37,
     "metadata": {},
     "output_type": "execute_result"
    },
    {
     "data": {
      "image/png": "[encoded data removed]",
      "text/plain": [
       "<Figure size 1080x720 with 1 Axes>"
      ]
     },
     "metadata": {
      "needs_background": "light"
     },
     "output_type": "display_data"
    }
   ],
   "source": [
    "#CHecking the results with outliers\n",
    "plt.figure(figsize=(15,10))\n",
    "df_diamond.boxplot(vert=0)"
   ]
  },
  {
   "cell_type": "code",
   "execution_count": 38,
   "metadata": {},
   "outputs": [],
   "source": [
    "#Imputing object values on cut with numeric values provided\n",
    "df_diamond['cut']=np.where(df_diamond['cut'] =='Fair', '0', df_diamond['cut'])\n",
    "df_diamond['cut']=np.where(df_diamond['cut'] =='Good', '1', df_diamond['cut'])\n",
    "df_diamond['cut']=np.where(df_diamond['cut'] =='Very Good', '2', df_diamond['cut'])\n",
    "df_diamond['cut']=np.where(df_diamond['cut'] =='Premium', '3', df_diamond['cut'])\n",
    "df_diamond['cut']=np.where(df_diamond['cut'] =='Ideal', '4', df_diamond['cut'])"
   ]
  },
  {
   "cell_type": "code",
   "execution_count": 39,
   "metadata": {},
   "outputs": [],
   "source": [
    "#Imputing object values on color with numeric values provided\n",
    "df_diamond['color']=np.where(df_diamond['color'] =='J', '0', df_diamond['color'])\n",
    "df_diamond['color']=np.where(df_diamond['color'] =='I', '1', df_diamond['color'])\n",
    "df_diamond['color']=np.where(df_diamond['color'] =='H', '2', df_diamond['color'])\n",
    "df_diamond['color']=np.where(df_diamond['color'] =='G', '3', df_diamond['color'])\n",
    "df_diamond['color']=np.where(df_diamond['color'] =='F', '4', df_diamond['color'])\n",
    "df_diamond['color']=np.where(df_diamond['color'] =='E', '5', df_diamond['color'])\n",
    "df_diamond['color']=np.where(df_diamond['color'] =='D', '6', df_diamond['color'])"
   ]
  },
  {
   "cell_type": "code",
   "execution_count": 40,
   "metadata": {},
   "outputs": [],
   "source": [
    "#Imputing object values on clarity with numeric values provided\n",
    "df_diamond['clarity']=np.where(df_diamond['clarity'] =='I3', '0', df_diamond['clarity'])\n",
    "df_diamond['clarity']=np.where(df_diamond['clarity'] =='I2', '1', df_diamond['clarity'])\n",
    "df_diamond['clarity']=np.where(df_diamond['clarity'] =='I1', '2', df_diamond['clarity'])\n",
    "df_diamond['clarity']=np.where(df_diamond['clarity'] =='SI2', '3', df_diamond['clarity'])\n",
    "df_diamond['clarity']=np.where(df_diamond['clarity'] =='SI1', '4', df_diamond['clarity'])\n",
    "df_diamond['clarity']=np.where(df_diamond['clarity'] =='VS2', '5', df_diamond['clarity'])\n",
    "df_diamond['clarity']=np.where(df_diamond['clarity'] =='VS1', '6', df_diamond['clarity'])\n",
    "df_diamond['clarity']=np.where(df_diamond['clarity'] =='VVS2', '7', df_diamond['clarity'])\n",
    "df_diamond['clarity']=np.where(df_diamond['clarity'] =='VVS1', '8', df_diamond['clarity'])\n",
    "df_diamond['clarity']=np.where(df_diamond['clarity'] =='IF', '9', df_diamond['clarity'])\n",
    "df_diamond['clarity']=np.where(df_diamond['clarity'] =='FL', '10', df_diamond['clarity'])"
   ]
  },
  {
   "cell_type": "code",
   "execution_count": 41,
   "metadata": {},
   "outputs": [],
   "source": [
    "# object to int64\n",
    "obj_to_int = df_diamond[['cut','color','clarity']]\n",
    "for i in obj_to_int:\n",
    "    df_diamond[i] = df_diamond[i].astype('int64')"
   ]
  },
  {
   "cell_type": "code",
   "execution_count": 42,
   "metadata": {},
   "outputs": [
    {
     "name": "stdout",
     "output_type": "stream",
     "text": [
      "<class 'pandas.core.frame.DataFrame'>\n",
      "Int64Index: 26925 entries, 0 to 26966\n",
      "Data columns (total 10 columns):\n",
      " #   Column   Non-Null Count  Dtype  \n",
      "---  ------   --------------  -----  \n",
      " 0   carat    26925 non-null  float64\n",
      " 1   cut      26925 non-null  int64  \n",
      " 2   color    26925 non-null  int64  \n",
      " 3   clarity  26925 non-null  int64  \n",
      " 4   depth    26925 non-null  float64\n",
      " 5   table    26925 non-null  float64\n",
      " 6   x        26925 non-null  float64\n",
      " 7   y        26925 non-null  float64\n",
      " 8   z        26925 non-null  float64\n",
      " 9   price    26925 non-null  float64\n",
      "dtypes: float64(7), int64(3)\n",
      "memory usage: 2.3 MB\n"
     ]
    }
   ],
   "source": [
    "df_diamond.info()"
   ]
  },
  {
   "cell_type": "markdown",
   "metadata": {},
   "source": [
    "## 1.3 Encode the data (having string values) for Modelling. Data Split: Split the data into test and train (70:30). Apply Linear regression. Performance Metrics: Check the performance of Predictions on Train and Test sets using Rsquare, RMSE."
   ]
  },
  {
   "cell_type": "code",
   "execution_count": 43,
   "metadata": {},
   "outputs": [
    {
     "data": {
      "text/html": [
       "<div>\n",
       "<style scoped>\n",
       "    .dataframe tbody tr th:only-of-type {\n",
       "        vertical-align: middle;\n",
       "    }\n",
       "\n",
       "    .dataframe tbody tr th {\n",
       "        vertical-align: top;\n",
       "    }\n",
       "\n",
       "    .dataframe thead th {\n",
       "        text-align: right;\n",
       "    }\n",
       "</style>\n",
       "<table border=\"1\" class=\"dataframe\">\n",
       "  <thead>\n",
       "    <tr style=\"text-align: right;\">\n",
       "      <th></th>\n",
       "      <th>carat</th>\n",
       "      <th>cut</th>\n",
       "      <th>color</th>\n",
       "      <th>clarity</th>\n",
       "      <th>depth</th>\n",
       "      <th>table</th>\n",
       "      <th>x</th>\n",
       "      <th>y</th>\n",
       "      <th>z</th>\n",
       "      <th>price</th>\n",
       "    </tr>\n",
       "  </thead>\n",
       "  <tbody>\n",
       "    <tr>\n",
       "      <th>0</th>\n",
       "      <td>-1.067382</td>\n",
       "      <td>0.979367</td>\n",
       "      <td>0.940777</td>\n",
       "      <td>-0.640136</td>\n",
       "      <td>0.286766</td>\n",
       "      <td>0.261968</td>\n",
       "      <td>-1.296530</td>\n",
       "      <td>-1.289659</td>\n",
       "      <td>-1.261558</td>\n",
       "      <td>-0.933395</td>\n",
       "    </tr>\n",
       "    <tr>\n",
       "      <th>1</th>\n",
       "      <td>-1.002446</td>\n",
       "      <td>0.080980</td>\n",
       "      <td>-0.231548</td>\n",
       "      <td>2.396449</td>\n",
       "      <td>-0.780365</td>\n",
       "      <td>0.261968</td>\n",
       "      <td>-1.163253</td>\n",
       "      <td>-1.137530</td>\n",
       "      <td>-1.204060</td>\n",
       "      <td>-0.793477</td>\n",
       "    </tr>\n",
       "    <tr>\n",
       "      <th>2</th>\n",
       "      <td>0.231349</td>\n",
       "      <td>-0.817407</td>\n",
       "      <td>0.940777</td>\n",
       "      <td>1.181815</td>\n",
       "      <td>0.368853</td>\n",
       "      <td>1.189326</td>\n",
       "      <td>0.276134</td>\n",
       "      <td>0.347964</td>\n",
       "      <td>0.348406</td>\n",
       "      <td>0.736960</td>\n",
       "    </tr>\n",
       "    <tr>\n",
       "      <th>3</th>\n",
       "      <td>-0.807636</td>\n",
       "      <td>0.979367</td>\n",
       "      <td>0.354615</td>\n",
       "      <td>0.574498</td>\n",
       "      <td>-0.123669</td>\n",
       "      <td>-0.665390</td>\n",
       "      <td>-0.807849</td>\n",
       "      <td>-0.833272</td>\n",
       "      <td>-0.830318</td>\n",
       "      <td>-0.765205</td>\n",
       "    </tr>\n",
       "    <tr>\n",
       "      <th>4</th>\n",
       "      <td>-1.045737</td>\n",
       "      <td>0.979367</td>\n",
       "      <td>0.354615</td>\n",
       "      <td>1.789132</td>\n",
       "      <td>-1.108713</td>\n",
       "      <td>0.725647</td>\n",
       "      <td>-1.225449</td>\n",
       "      <td>-1.164377</td>\n",
       "      <td>-1.275933</td>\n",
       "      <td>-0.852618</td>\n",
       "    </tr>\n",
       "    <tr>\n",
       "      <th>5</th>\n",
       "      <td>0.491095</td>\n",
       "      <td>0.979367</td>\n",
       "      <td>1.526940</td>\n",
       "      <td>-0.032819</td>\n",
       "      <td>-0.205756</td>\n",
       "      <td>-0.665390</td>\n",
       "      <td>0.649309</td>\n",
       "      <td>0.679069</td>\n",
       "      <td>0.650274</td>\n",
       "      <td>1.663877</td>\n",
       "    </tr>\n",
       "    <tr>\n",
       "      <th>6</th>\n",
       "      <td>0.469450</td>\n",
       "      <td>-1.715794</td>\n",
       "      <td>-0.817710</td>\n",
       "      <td>-0.640136</td>\n",
       "      <td>1.600159</td>\n",
       "      <td>1.189326</td>\n",
       "      <td>0.551573</td>\n",
       "      <td>0.509042</td>\n",
       "      <td>0.707773</td>\n",
       "      <td>0.317784</td>\n",
       "    </tr>\n",
       "    <tr>\n",
       "      <th>7</th>\n",
       "      <td>-0.634472</td>\n",
       "      <td>0.080980</td>\n",
       "      <td>0.940777</td>\n",
       "      <td>-0.640136</td>\n",
       "      <td>-0.205756</td>\n",
       "      <td>2.116685</td>\n",
       "      <td>-0.567951</td>\n",
       "      <td>-0.600604</td>\n",
       "      <td>-0.600323</td>\n",
       "      <td>-0.669138</td>\n",
       "    </tr>\n",
       "    <tr>\n",
       "      <th>8</th>\n",
       "      <td>0.902360</td>\n",
       "      <td>-1.715794</td>\n",
       "      <td>-0.817710</td>\n",
       "      <td>-0.640136</td>\n",
       "      <td>1.682246</td>\n",
       "      <td>2.812204</td>\n",
       "      <td>0.880322</td>\n",
       "      <td>0.804351</td>\n",
       "      <td>1.038391</td>\n",
       "      <td>0.482512</td>\n",
       "    </tr>\n",
       "    <tr>\n",
       "      <th>9</th>\n",
       "      <td>-0.959155</td>\n",
       "      <td>0.979367</td>\n",
       "      <td>0.354615</td>\n",
       "      <td>-0.032819</td>\n",
       "      <td>-1.026626</td>\n",
       "      <td>-0.201711</td>\n",
       "      <td>-1.074402</td>\n",
       "      <td>-1.012248</td>\n",
       "      <td>-1.117812</td>\n",
       "      <td>-0.873677</td>\n",
       "    </tr>\n",
       "  </tbody>\n",
       "</table>\n",
       "</div>"
      ],
      "text/plain": [
       "      carat       cut     color   clarity     depth     table         x  \\\n",
       "0 -1.067382  0.979367  0.940777 -0.640136  0.286766  0.261968 -1.296530   \n",
       "1 -1.002446  0.080980 -0.231548  2.396449 -0.780365  0.261968 -1.163253   \n",
       "2  0.231349 -0.817407  0.940777  1.181815  0.368853  1.189326  0.276134   \n",
       "3 -0.807636  0.979367  0.354615  0.574498 -0.123669 -0.665390 -0.807849   \n",
       "4 -1.045737  0.979367  0.354615  1.789132 -1.108713  0.725647 -1.225449   \n",
       "5  0.491095  0.979367  1.526940 -0.032819 -0.205756 -0.665390  0.649309   \n",
       "6  0.469450 -1.715794 -0.817710 -0.640136  1.600159  1.189326  0.551573   \n",
       "7 -0.634472  0.080980  0.940777 -0.640136 -0.205756  2.116685 -0.567951   \n",
       "8  0.902360 -1.715794 -0.817710 -0.640136  1.682246  2.812204  0.880322   \n",
       "9 -0.959155  0.979367  0.354615 -0.032819 -1.026626 -0.201711 -1.074402   \n",
       "\n",
       "          y         z     price  \n",
       "0 -1.289659 -1.261558 -0.933395  \n",
       "1 -1.137530 -1.204060 -0.793477  \n",
       "2  0.347964  0.348406  0.736960  \n",
       "3 -0.833272 -0.830318 -0.765205  \n",
       "4 -1.164377 -1.275933 -0.852618  \n",
       "5  0.679069  0.650274  1.663877  \n",
       "6  0.509042  0.707773  0.317784  \n",
       "7 -0.600604 -0.600323 -0.669138  \n",
       "8  0.804351  1.038391  0.482512  \n",
       "9 -1.012248 -1.117812 -0.873677  "
      ]
     },
     "execution_count": 43,
     "metadata": {},
     "output_type": "execute_result"
    }
   ],
   "source": [
    "#DataFrame Scaling\n",
    "df_diamond_scaled = df_diamond.apply(zscore)\n",
    "df_diamond_scaled.head(10)"
   ]
  },
  {
   "cell_type": "code",
   "execution_count": 44,
   "metadata": {},
   "outputs": [],
   "source": [
    "# Copy all the predictor variables into X dataframe\n",
    "X = df_diamond_scaled.drop('price', axis=1)\n",
    "\n",
    "# Copy target into the y dataframe. \n",
    "y = df_diamond_scaled[['price']]"
   ]
  },
  {
   "cell_type": "code",
   "execution_count": 45,
   "metadata": {},
   "outputs": [],
   "source": [
    "# Split X and y into training and test set in 70:30 ratio\n",
    "from sklearn.model_selection import train_test_split\n",
    "X_train, X_test, y_train, y_test = train_test_split(X, y, test_size=0.30 , random_state=1)"
   ]
  },
  {
   "cell_type": "code",
   "execution_count": 46,
   "metadata": {},
   "outputs": [
    {
     "name": "stdout",
     "output_type": "stream",
     "text": [
      "The training set for the independent variables: (18847, 9)\n",
      "The training set for the dependent variable: (18847, 1)\n",
      "The test set for the independent variables: (8078, 9)\n",
      "The test set for the dependent variable: (8078, 1)\n"
     ]
    }
   ],
   "source": [
    "print('The training set for the independent variables:',X_train.shape)\n",
    "print('The training set for the dependent variable:',y_train.shape)\n",
    "print('The test set for the independent variables:',X_test.shape)\n",
    "print('The test set for the dependent variable:',y_test.shape)"
   ]
  },
  {
   "cell_type": "code",
   "execution_count": 47,
   "metadata": {},
   "outputs": [
    {
     "data": {
      "text/plain": [
       "LinearRegression()"
      ]
     },
     "execution_count": 47,
     "metadata": {},
     "output_type": "execute_result"
    }
   ],
   "source": [
    "# invoke the LinearRegression function and find the bestfit model on training data\n",
    "\n",
    "regression_model = LinearRegression()\n",
    "regression_model.fit(X_train, y_train)"
   ]
  },
  {
   "cell_type": "code",
   "execution_count": 48,
   "metadata": {},
   "outputs": [
    {
     "name": "stdout",
     "output_type": "stream",
     "text": [
      "The coefficient for carat is 1.1844754737920873\n",
      "The coefficient for cut is 0.03639268233536705\n",
      "The coefficient for color is 0.1344726552693927\n",
      "The coefficient for clarity is 0.2075368704812582\n",
      "The coefficient for depth is 0.012457420533777791\n",
      "The coefficient for table is -0.0093756794027128\n",
      "The coefficient for x is -0.4379147636103137\n",
      "The coefficient for y is 0.5035061306688992\n",
      "The coefficient for z is -0.19477298642122876\n"
     ]
    }
   ],
   "source": [
    "# Exploring the coefficients for each of the independent attributes\n",
    "\n",
    "for idx, col_name in enumerate(X_train.columns):\n",
    "    print(\"The coefficient for {} is {}\".format(col_name, regression_model.coef_[0][idx]))"
   ]
  },
  {
   "cell_type": "code",
   "execution_count": 49,
   "metadata": {},
   "outputs": [
    {
     "name": "stdout",
     "output_type": "stream",
     "text": [
      "The intercept for our model is -0.0002919730885865852\n"
     ]
    }
   ],
   "source": [
    "# Intercept for the model\n",
    "\n",
    "intercept = regression_model.intercept_[0]\n",
    "\n",
    "print(\"The intercept for our model is {}\".format(intercept))"
   ]
  },
  {
   "cell_type": "code",
   "execution_count": 50,
   "metadata": {},
   "outputs": [
    {
     "name": "stdout",
     "output_type": "stream",
     "text": [
      "The Accuracy of the Training data is: 0.9312287832968958\n"
     ]
    }
   ],
   "source": [
    "# R square on training data\n",
    "print(\"The Accuracy of the Training data is:\",regression_model.score(X_train, y_train))"
   ]
  },
  {
   "cell_type": "code",
   "execution_count": 51,
   "metadata": {},
   "outputs": [
    {
     "name": "stdout",
     "output_type": "stream",
     "text": [
      "The Accuracy of the Testing data is: 0.9316264205922415\n"
     ]
    }
   ],
   "source": [
    "# R square on testing data\n",
    "print(\"The Accuracy of the Testing data is:\",regression_model.score(X_test, y_test))"
   ]
  },
  {
   "cell_type": "code",
   "execution_count": 52,
   "metadata": {},
   "outputs": [
    {
     "name": "stdout",
     "output_type": "stream",
     "text": [
      "The RMSE of the Training data is: 0.26163092383676895\n"
     ]
    }
   ],
   "source": [
    "#RMSE on Training data\n",
    "predicted_train=regression_model.fit(X_train, y_train).predict(X_train)\n",
    "print(\"The RMSE of the Training data is:\",np.sqrt(metrics.mean_squared_error(y_train,predicted_train)))"
   ]
  },
  {
   "cell_type": "code",
   "execution_count": 53,
   "metadata": {},
   "outputs": [
    {
     "name": "stdout",
     "output_type": "stream",
     "text": [
      "The RMSE of the Testing data is: 0.26289869575092717\n"
     ]
    }
   ],
   "source": [
    "#RMSE on Testing data\n",
    "predicted_test=regression_model.fit(X_train, y_train).predict(X_test)\n",
    "print(\"The RMSE of the Testing data is:\",np.sqrt(metrics.mean_squared_error(y_test,predicted_test)))"
   ]
  },
  {
   "cell_type": "code",
   "execution_count": 54,
   "metadata": {},
   "outputs": [
    {
     "data": {
      "text/plain": [
       "Index(['price'], dtype='object')"
      ]
     },
     "execution_count": 54,
     "metadata": {},
     "output_type": "execute_result"
    }
   ],
   "source": [
    "y_train.columns"
   ]
  },
  {
   "cell_type": "markdown",
   "metadata": {},
   "source": [
    "## Linear Regression using statsmodels"
   ]
  },
  {
   "cell_type": "code",
   "execution_count": 55,
   "metadata": {},
   "outputs": [
    {
     "data": {
      "text/html": [
       "<div>\n",
       "<style scoped>\n",
       "    .dataframe tbody tr th:only-of-type {\n",
       "        vertical-align: middle;\n",
       "    }\n",
       "\n",
       "    .dataframe tbody tr th {\n",
       "        vertical-align: top;\n",
       "    }\n",
       "\n",
       "    .dataframe thead th {\n",
       "        text-align: right;\n",
       "    }\n",
       "</style>\n",
       "<table border=\"1\" class=\"dataframe\">\n",
       "  <thead>\n",
       "    <tr style=\"text-align: right;\">\n",
       "      <th></th>\n",
       "      <th>carat</th>\n",
       "      <th>cut</th>\n",
       "      <th>color</th>\n",
       "      <th>clarity</th>\n",
       "      <th>depth</th>\n",
       "      <th>table</th>\n",
       "      <th>x</th>\n",
       "      <th>y</th>\n",
       "      <th>z</th>\n",
       "      <th>price</th>\n",
       "    </tr>\n",
       "  </thead>\n",
       "  <tbody>\n",
       "    <tr>\n",
       "      <th>5030</th>\n",
       "      <td>0.664259</td>\n",
       "      <td>-1.715794</td>\n",
       "      <td>0.940777</td>\n",
       "      <td>-1.247452</td>\n",
       "      <td>1.271811</td>\n",
       "      <td>-0.665390</td>\n",
       "      <td>0.711505</td>\n",
       "      <td>0.759608</td>\n",
       "      <td>0.880269</td>\n",
       "      <td>0.095359</td>\n",
       "    </tr>\n",
       "    <tr>\n",
       "      <th>12108</th>\n",
       "      <td>0.469450</td>\n",
       "      <td>-0.817407</td>\n",
       "      <td>1.526940</td>\n",
       "      <td>-1.247452</td>\n",
       "      <td>1.846420</td>\n",
       "      <td>-0.665390</td>\n",
       "      <td>0.507147</td>\n",
       "      <td>0.580632</td>\n",
       "      <td>0.750897</td>\n",
       "      <td>0.412986</td>\n",
       "    </tr>\n",
       "    <tr>\n",
       "      <th>20181</th>\n",
       "      <td>-0.266498</td>\n",
       "      <td>-1.715794</td>\n",
       "      <td>-1.403873</td>\n",
       "      <td>-0.032819</td>\n",
       "      <td>-0.862452</td>\n",
       "      <td>1.838477</td>\n",
       "      <td>-0.114810</td>\n",
       "      <td>-0.081576</td>\n",
       "      <td>-0.183457</td>\n",
       "      <td>-0.584611</td>\n",
       "    </tr>\n",
       "    <tr>\n",
       "      <th>4712</th>\n",
       "      <td>-0.071688</td>\n",
       "      <td>-1.715794</td>\n",
       "      <td>-0.231548</td>\n",
       "      <td>-0.640136</td>\n",
       "      <td>-2.257931</td>\n",
       "      <td>2.580364</td>\n",
       "      <td>0.285019</td>\n",
       "      <td>0.213733</td>\n",
       "      <td>-0.097209</td>\n",
       "      <td>-0.371417</td>\n",
       "    </tr>\n",
       "    <tr>\n",
       "      <th>2548</th>\n",
       "      <td>0.469450</td>\n",
       "      <td>0.080980</td>\n",
       "      <td>-0.231548</td>\n",
       "      <td>0.574498</td>\n",
       "      <td>0.861376</td>\n",
       "      <td>0.725647</td>\n",
       "      <td>0.569343</td>\n",
       "      <td>0.544837</td>\n",
       "      <td>0.650274</td>\n",
       "      <td>0.831873</td>\n",
       "    </tr>\n",
       "    <tr>\n",
       "      <th>9710</th>\n",
       "      <td>2.027927</td>\n",
       "      <td>0.080980</td>\n",
       "      <td>-0.231548</td>\n",
       "      <td>0.574498</td>\n",
       "      <td>0.861376</td>\n",
       "      <td>-0.201711</td>\n",
       "      <td>1.768832</td>\n",
       "      <td>1.645535</td>\n",
       "      <td>1.814623</td>\n",
       "      <td>2.374426</td>\n",
       "    </tr>\n",
       "    <tr>\n",
       "      <th>491</th>\n",
       "      <td>-0.850927</td>\n",
       "      <td>-0.817407</td>\n",
       "      <td>0.940777</td>\n",
       "      <td>-0.640136</td>\n",
       "      <td>0.861376</td>\n",
       "      <td>0.725647</td>\n",
       "      <td>-0.941125</td>\n",
       "      <td>-0.922760</td>\n",
       "      <td>-0.859067</td>\n",
       "      <td>-0.873389</td>\n",
       "    </tr>\n",
       "    <tr>\n",
       "      <th>15628</th>\n",
       "      <td>-0.136625</td>\n",
       "      <td>0.080980</td>\n",
       "      <td>-0.231548</td>\n",
       "      <td>-0.032819</td>\n",
       "      <td>-1.190800</td>\n",
       "      <td>-0.201711</td>\n",
       "      <td>0.133973</td>\n",
       "      <td>0.079502</td>\n",
       "      <td>-0.010961</td>\n",
       "      <td>-0.332759</td>\n",
       "    </tr>\n",
       "    <tr>\n",
       "      <th>2664</th>\n",
       "      <td>-0.526244</td>\n",
       "      <td>0.979367</td>\n",
       "      <td>0.354615</td>\n",
       "      <td>-0.032819</td>\n",
       "      <td>-0.287843</td>\n",
       "      <td>-0.665390</td>\n",
       "      <td>-0.399134</td>\n",
       "      <td>-0.376885</td>\n",
       "      <td>-0.413452</td>\n",
       "      <td>-0.582591</td>\n",
       "    </tr>\n",
       "    <tr>\n",
       "      <th>7773</th>\n",
       "      <td>-0.915864</td>\n",
       "      <td>0.979367</td>\n",
       "      <td>0.940777</td>\n",
       "      <td>-0.032819</td>\n",
       "      <td>0.779289</td>\n",
       "      <td>-0.665390</td>\n",
       "      <td>-1.003321</td>\n",
       "      <td>-1.056991</td>\n",
       "      <td>-0.959690</td>\n",
       "      <td>-0.777033</td>\n",
       "    </tr>\n",
       "  </tbody>\n",
       "</table>\n",
       "</div>"
      ],
      "text/plain": [
       "          carat       cut     color   clarity     depth     table         x  \\\n",
       "5030   0.664259 -1.715794  0.940777 -1.247452  1.271811 -0.665390  0.711505   \n",
       "12108  0.469450 -0.817407  1.526940 -1.247452  1.846420 -0.665390  0.507147   \n",
       "20181 -0.266498 -1.715794 -1.403873 -0.032819 -0.862452  1.838477 -0.114810   \n",
       "4712  -0.071688 -1.715794 -0.231548 -0.640136 -2.257931  2.580364  0.285019   \n",
       "2548   0.469450  0.080980 -0.231548  0.574498  0.861376  0.725647  0.569343   \n",
       "9710   2.027927  0.080980 -0.231548  0.574498  0.861376 -0.201711  1.768832   \n",
       "491   -0.850927 -0.817407  0.940777 -0.640136  0.861376  0.725647 -0.941125   \n",
       "15628 -0.136625  0.080980 -0.231548 -0.032819 -1.190800 -0.201711  0.133973   \n",
       "2664  -0.526244  0.979367  0.354615 -0.032819 -0.287843 -0.665390 -0.399134   \n",
       "7773  -0.915864  0.979367  0.940777 -0.032819  0.779289 -0.665390 -1.003321   \n",
       "\n",
       "              y         z     price  \n",
       "5030   0.759608  0.880269  0.095359  \n",
       "12108  0.580632  0.750897  0.412986  \n",
       "20181 -0.081576 -0.183457 -0.584611  \n",
       "4712   0.213733 -0.097209 -0.371417  \n",
       "2548   0.544837  0.650274  0.831873  \n",
       "9710   1.645535  1.814623  2.374426  \n",
       "491   -0.922760 -0.859067 -0.873389  \n",
       "15628  0.079502 -0.010961 -0.332759  \n",
       "2664  -0.376885 -0.413452 -0.582591  \n",
       "7773  -1.056991 -0.959690 -0.777033  "
      ]
     },
     "execution_count": 55,
     "metadata": {},
     "output_type": "execute_result"
    }
   ],
   "source": [
    "# concatenating X and y into a single dataframe\n",
    "data_train = pd.concat([X_train, y_train], axis=1)\n",
    "data_test=pd.concat([X_test,y_test],axis=1)\n",
    "data_train.head(10)"
   ]
  },
  {
   "cell_type": "code",
   "execution_count": 56,
   "metadata": {},
   "outputs": [
    {
     "data": {
      "text/plain": [
       "Index(['carat', 'cut', 'color', 'clarity', 'depth', 'table', 'x', 'y', 'z',\n",
       "       'price'],\n",
       "      dtype='object')"
      ]
     },
     "execution_count": 56,
     "metadata": {},
     "output_type": "execute_result"
    }
   ],
   "source": [
    "data_train.columns"
   ]
  },
  {
   "cell_type": "code",
   "execution_count": 57,
   "metadata": {},
   "outputs": [
    {
     "data": {
      "text/plain": [
       "(8078, 10)"
      ]
     },
     "execution_count": 57,
     "metadata": {},
     "output_type": "execute_result"
    }
   ],
   "source": [
    "data_test.shape"
   ]
  },
  {
   "cell_type": "code",
   "execution_count": 58,
   "metadata": {},
   "outputs": [],
   "source": [
    "# Keeping the formula ready\n",
    "expr= 'price ~ carat  + cut + color  + clarity + depth + table + x + y + z'"
   ]
  },
  {
   "cell_type": "code",
   "execution_count": 59,
   "metadata": {},
   "outputs": [
    {
     "data": {
      "text/plain": [
       "Intercept   -0.000292\n",
       "carat        1.184475\n",
       "cut          0.036393\n",
       "color        0.134473\n",
       "clarity      0.207537\n",
       "depth        0.012457\n",
       "table       -0.009376\n",
       "x           -0.437915\n",
       "y            0.503506\n",
       "z           -0.194773\n",
       "dtype: float64"
      ]
     },
     "execution_count": 59,
     "metadata": {},
     "output_type": "execute_result"
    }
   ],
   "source": [
    "#Applying formaula\n",
    "import statsmodels.formula.api as smf\n",
    "lm1 = smf.ols(formula= expr, data = data_train).fit()\n",
    "lm1.params"
   ]
  },
  {
   "cell_type": "code",
   "execution_count": 60,
   "metadata": {},
   "outputs": [
    {
     "name": "stdout",
     "output_type": "stream",
     "text": [
      "                            OLS Regression Results                            \n",
      "==============================================================================\n",
      "Dep. Variable:                  price   R-squared:                       0.931\n",
      "Model:                            OLS   Adj. R-squared:                  0.931\n",
      "Method:                 Least Squares   F-statistic:                 2.834e+04\n",
      "Date:                Fri, 30 Oct 2020   Prob (F-statistic):               0.00\n",
      "Time:                        18:38:39   Log-Likelihood:                -1472.3\n",
      "No. Observations:               18847   AIC:                             2965.\n",
      "Df Residuals:                   18837   BIC:                             3043.\n",
      "Df Model:                           9                                         \n",
      "Covariance Type:            nonrobust                                         \n",
      "==============================================================================\n",
      "                 coef    std err          t      P>|t|      [0.025      0.975]\n",
      "------------------------------------------------------------------------------\n",
      "Intercept     -0.0003      0.002     -0.153      0.878      -0.004       0.003\n",
      "carat          1.1845      0.011    107.642      0.000       1.163       1.206\n",
      "cut            0.0364      0.002     15.498      0.000       0.032       0.041\n",
      "color          0.1345      0.002     66.558      0.000       0.131       0.138\n",
      "clarity        0.2075      0.002     97.724      0.000       0.203       0.212\n",
      "depth          0.0125      0.004      3.196      0.001       0.005       0.020\n",
      "table         -0.0094      0.002     -3.851      0.000      -0.014      -0.005\n",
      "x             -0.4379      0.044     -9.963      0.000      -0.524      -0.352\n",
      "y              0.5035      0.043     11.738      0.000       0.419       0.588\n",
      "z             -0.1948      0.028     -6.979      0.000      -0.249      -0.140\n",
      "==============================================================================\n",
      "Omnibus:                     2652.224   Durbin-Watson:                   2.004\n",
      "Prob(Omnibus):                  0.000   Jarque-Bera (JB):             9564.804\n",
      "Skew:                           0.690   Prob(JB):                         0.00\n",
      "Kurtosis:                       6.206   Cond. No.                         62.9\n",
      "==============================================================================\n",
      "\n",
      "Warnings:\n",
      "[1] Standard Errors assume that the covariance matrix of the errors is correctly specified.\n"
     ]
    }
   ],
   "source": [
    "#Summary of the Results\n",
    "print(lm1.summary())"
   ]
  },
  {
   "cell_type": "code",
   "execution_count": 61,
   "metadata": {},
   "outputs": [
    {
     "data": {
      "text/plain": [
       "5030    -0.417840\n",
       "12108   -0.012716\n",
       "20181   -0.027577\n",
       "4712    -0.009196\n",
       "2548     0.282797\n",
       "           ...   \n",
       "10965    0.031544\n",
       "17309    0.580020\n",
       "5193    -0.108470\n",
       "12182   -0.014034\n",
       "235      0.041586\n",
       "Length: 18847, dtype: float64"
      ]
     },
     "execution_count": 61,
     "metadata": {},
     "output_type": "execute_result"
    }
   ],
   "source": [
    "#Residuals check\n",
    "lm1.resid"
   ]
  },
  {
   "cell_type": "code",
   "execution_count": 62,
   "metadata": {},
   "outputs": [],
   "source": [
    "# Calculate MSE\n",
    "mse = np.mean((lm1.predict(data_train.drop('price',axis=1))-data_train['price'])**2)"
   ]
  },
  {
   "cell_type": "code",
   "execution_count": 63,
   "metadata": {},
   "outputs": [
    {
     "data": {
      "text/plain": [
       "0.26163092383676884"
      ]
     },
     "execution_count": 63,
     "metadata": {},
     "output_type": "execute_result"
    }
   ],
   "source": [
    "#Root Mean Squared Error - RMSE\n",
    "np.sqrt(mse)"
   ]
  },
  {
   "cell_type": "code",
   "execution_count": 64,
   "metadata": {},
   "outputs": [
    {
     "data": {
      "text/plain": [
       "0.2617003606393495"
      ]
     },
     "execution_count": 64,
     "metadata": {},
     "output_type": "execute_result"
    }
   ],
   "source": [
    "np.sqrt(lm1.mse_resid) #another way"
   ]
  },
  {
   "cell_type": "code",
   "execution_count": 65,
   "metadata": {},
   "outputs": [],
   "source": [
    "# Prediction on Test data\n",
    "y_pred = lm1.predict(data_test)"
   ]
  },
  {
   "cell_type": "code",
   "execution_count": 66,
   "metadata": {},
   "outputs": [
    {
     "data": {
      "image/png": "[encoded data removed]",
      "text/plain": [
       "<Figure size 432x288 with 1 Axes>"
      ]
     },
     "metadata": {
      "needs_background": "light"
     },
     "output_type": "display_data"
    }
   ],
   "source": [
    "plt.scatter(y_test['price'], y_pred,color='red')\n",
    "plt.show()"
   ]
  },
  {
   "cell_type": "code",
   "execution_count": 67,
   "metadata": {},
   "outputs": [
    {
     "data": {
      "text/html": [
       "<div>\n",
       "<style scoped>\n",
       "    .dataframe tbody tr th:only-of-type {\n",
       "        vertical-align: middle;\n",
       "    }\n",
       "\n",
       "    .dataframe tbody tr th {\n",
       "        vertical-align: top;\n",
       "    }\n",
       "\n",
       "    .dataframe thead th {\n",
       "        text-align: right;\n",
       "    }\n",
       "</style>\n",
       "<table border=\"1\" class=\"dataframe\">\n",
       "  <thead>\n",
       "    <tr style=\"text-align: right;\">\n",
       "      <th></th>\n",
       "      <th>Unnamed: 0</th>\n",
       "      <th>carat</th>\n",
       "      <th>cut</th>\n",
       "      <th>color</th>\n",
       "      <th>clarity</th>\n",
       "      <th>depth</th>\n",
       "      <th>table</th>\n",
       "      <th>x</th>\n",
       "      <th>y</th>\n",
       "      <th>z</th>\n",
       "      <th>price</th>\n",
       "    </tr>\n",
       "  </thead>\n",
       "  <tbody>\n",
       "    <tr>\n",
       "      <th>0</th>\n",
       "      <td>1</td>\n",
       "      <td>0.30</td>\n",
       "      <td>Ideal</td>\n",
       "      <td>E</td>\n",
       "      <td>SI1</td>\n",
       "      <td>62.1</td>\n",
       "      <td>58.0</td>\n",
       "      <td>4.27</td>\n",
       "      <td>4.29</td>\n",
       "      <td>2.66</td>\n",
       "      <td>499</td>\n",
       "    </tr>\n",
       "    <tr>\n",
       "      <th>1</th>\n",
       "      <td>2</td>\n",
       "      <td>0.33</td>\n",
       "      <td>Premium</td>\n",
       "      <td>G</td>\n",
       "      <td>IF</td>\n",
       "      <td>60.8</td>\n",
       "      <td>58.0</td>\n",
       "      <td>4.42</td>\n",
       "      <td>4.46</td>\n",
       "      <td>2.70</td>\n",
       "      <td>984</td>\n",
       "    </tr>\n",
       "    <tr>\n",
       "      <th>2</th>\n",
       "      <td>3</td>\n",
       "      <td>0.90</td>\n",
       "      <td>Very Good</td>\n",
       "      <td>E</td>\n",
       "      <td>VVS2</td>\n",
       "      <td>62.2</td>\n",
       "      <td>60.0</td>\n",
       "      <td>6.04</td>\n",
       "      <td>6.12</td>\n",
       "      <td>3.78</td>\n",
       "      <td>6289</td>\n",
       "    </tr>\n",
       "    <tr>\n",
       "      <th>3</th>\n",
       "      <td>4</td>\n",
       "      <td>0.42</td>\n",
       "      <td>Ideal</td>\n",
       "      <td>F</td>\n",
       "      <td>VS1</td>\n",
       "      <td>61.6</td>\n",
       "      <td>56.0</td>\n",
       "      <td>4.82</td>\n",
       "      <td>4.80</td>\n",
       "      <td>2.96</td>\n",
       "      <td>1082</td>\n",
       "    </tr>\n",
       "    <tr>\n",
       "      <th>4</th>\n",
       "      <td>5</td>\n",
       "      <td>0.31</td>\n",
       "      <td>Ideal</td>\n",
       "      <td>F</td>\n",
       "      <td>VVS1</td>\n",
       "      <td>60.4</td>\n",
       "      <td>59.0</td>\n",
       "      <td>4.35</td>\n",
       "      <td>4.43</td>\n",
       "      <td>2.65</td>\n",
       "      <td>779</td>\n",
       "    </tr>\n",
       "  </tbody>\n",
       "</table>\n",
       "</div>"
      ],
      "text/plain": [
       "   Unnamed: 0  carat        cut color clarity  depth  table     x     y     z  \\\n",
       "0           1   0.30      Ideal     E     SI1   62.1   58.0  4.27  4.29  2.66   \n",
       "1           2   0.33    Premium     G      IF   60.8   58.0  4.42  4.46  2.70   \n",
       "2           3   0.90  Very Good     E    VVS2   62.2   60.0  6.04  6.12  3.78   \n",
       "3           4   0.42      Ideal     F     VS1   61.6   56.0  4.82  4.80  2.96   \n",
       "4           5   0.31      Ideal     F    VVS1   60.4   59.0  4.35  4.43  2.65   \n",
       "\n",
       "   price  \n",
       "0    499  \n",
       "1    984  \n",
       "2   6289  \n",
       "3   1082  \n",
       "4    779  "
      ]
     },
     "execution_count": 67,
     "metadata": {},
     "output_type": "execute_result"
    }
   ],
   "source": [
    "df_diamond_copy.head()"
   ]
  },
  {
   "cell_type": "code",
   "execution_count": 68,
   "metadata": {},
   "outputs": [],
   "source": [
    "df_diamond_copy.drop(df_diamond_copy.columns[0], axis=1,inplace=True)"
   ]
  },
  {
   "cell_type": "code",
   "execution_count": 69,
   "metadata": {},
   "outputs": [],
   "source": [
    "df_diamond_copy.drop_duplicates(inplace=True)"
   ]
  },
  {
   "cell_type": "code",
   "execution_count": 70,
   "metadata": {},
   "outputs": [
    {
     "data": {
      "text/plain": [
       "carat        0\n",
       "cut          0\n",
       "color        0\n",
       "clarity      0\n",
       "depth      697\n",
       "table        0\n",
       "x            0\n",
       "y            0\n",
       "z            0\n",
       "price        0\n",
       "dtype: int64"
      ]
     },
     "execution_count": 70,
     "metadata": {},
     "output_type": "execute_result"
    }
   ],
   "source": [
    "df_diamond_copy.isnull().sum()"
   ]
  },
  {
   "cell_type": "code",
   "execution_count": 71,
   "metadata": {},
   "outputs": [
    {
     "data": {
      "text/plain": [
       "carat      0\n",
       "cut        0\n",
       "color      0\n",
       "clarity    0\n",
       "depth      0\n",
       "table      0\n",
       "x          0\n",
       "y          0\n",
       "z          0\n",
       "price      0\n",
       "dtype: int64"
      ]
     },
     "execution_count": 71,
     "metadata": {},
     "output_type": "execute_result"
    }
   ],
   "source": [
    "#Null Values Imputation\n",
    "for column in df_diamond_copy.columns:\n",
    "    if df_diamond_copy[column].dtype != 'object':\n",
    "        df_diamond_median_copy = df_diamond_copy[column].median()\n",
    "        df_diamond_copy[column] = df_diamond_copy[column].fillna(df_diamond_median_copy)    \n",
    "        \n",
    "df_diamond_copy.isnull().sum()       "
   ]
  },
  {
   "cell_type": "code",
   "execution_count": 72,
   "metadata": {},
   "outputs": [],
   "source": [
    "df_diamond_copy = df_diamond_copy.replace(0, np.nan)"
   ]
  },
  {
   "cell_type": "code",
   "execution_count": 73,
   "metadata": {},
   "outputs": [],
   "source": [
    "df_diamond_copy.dropna(inplace=True)"
   ]
  },
  {
   "cell_type": "code",
   "execution_count": 74,
   "metadata": {},
   "outputs": [],
   "source": [
    "#Outlier removal\n",
    "dtypes_copy=df_diamond_copy.dtypes[(df_diamond_copy.dtypes!= 'object')].index\n",
    "for column in df_diamond_copy[dtypes_copy].columns:\n",
    "    lr,ur=remove_outlier(df_diamond_copy[column])\n",
    "    df_diamond_copy[column]=np.where(df_diamond_copy[column]>ur,ur,df_diamond_copy[column])\n",
    "    df_diamond_copy[column]=np.where(df_diamond_copy[column]<lr,lr,df_diamond_copy[column])"
   ]
  },
  {
   "cell_type": "code",
   "execution_count": 75,
   "metadata": {},
   "outputs": [],
   "source": [
    "#Imputing object values on cut with numeric values provided\n",
    "df_diamond_copy['cut']=np.where(df_diamond_copy['cut'] =='Fair', '0', df_diamond_copy['cut'])\n",
    "df_diamond_copy['cut']=np.where(df_diamond_copy['cut'] =='Good', '1', df_diamond_copy['cut'])\n",
    "df_diamond_copy['cut']=np.where(df_diamond_copy['cut'] =='Very Good', '2', df_diamond_copy['cut'])\n",
    "df_diamond_copy['cut']=np.where(df_diamond_copy['cut'] =='Premium', '3', df_diamond_copy['cut'])\n",
    "df_diamond_copy['cut']=np.where(df_diamond_copy['cut'] =='Ideal', '4', df_diamond_copy['cut'])\n",
    "\n",
    "#Imputing object values on color with numeric values provided\n",
    "df_diamond_copy['color']=np.where(df_diamond_copy['color'] =='J', '0', df_diamond_copy['color'])\n",
    "df_diamond_copy['color']=np.where(df_diamond_copy['color'] =='I', '1', df_diamond_copy['color'])\n",
    "df_diamond_copy['color']=np.where(df_diamond_copy['color'] =='H', '2', df_diamond_copy['color'])\n",
    "df_diamond_copy['color']=np.where(df_diamond_copy['color'] =='G', '3', df_diamond_copy['color'])\n",
    "df_diamond_copy['color']=np.where(df_diamond_copy['color'] =='F', '4', df_diamond_copy['color'])\n",
    "df_diamond_copy['color']=np.where(df_diamond_copy['color'] =='E', '5', df_diamond_copy['color'])\n",
    "df_diamond_copy['color']=np.where(df_diamond_copy['color'] =='D', '6', df_diamond_copy['color'])\n",
    "\n",
    "#Imputing object values on clarity with numeric values provided\n",
    "df_diamond_copy['clarity']=np.where(df_diamond_copy['clarity'] =='I3', '0', df_diamond_copy['clarity'])\n",
    "df_diamond_copy['clarity']=np.where(df_diamond_copy['clarity'] =='I2', '1', df_diamond_copy['clarity'])\n",
    "df_diamond_copy['clarity']=np.where(df_diamond_copy['clarity'] =='I1', '2', df_diamond_copy['clarity'])\n",
    "df_diamond_copy['clarity']=np.where(df_diamond_copy['clarity'] =='SI2', '3', df_diamond_copy['clarity'])\n",
    "df_diamond_copy['clarity']=np.where(df_diamond_copy['clarity'] =='SI1', '4', df_diamond_copy['clarity'])\n",
    "df_diamond_copy['clarity']=np.where(df_diamond_copy['clarity'] =='VS2', '5', df_diamond_copy['clarity'])\n",
    "df_diamond_copy['clarity']=np.where(df_diamond_copy['clarity'] =='VS1', '6', df_diamond_copy['clarity'])\n",
    "df_diamond_copy['clarity']=np.where(df_diamond_copy['clarity'] =='VVS2', '7', df_diamond_copy['clarity'])\n",
    "df_diamond_copy['clarity']=np.where(df_diamond_copy['clarity'] =='VVS1', '8', df_diamond_copy['clarity'])\n",
    "df_diamond_copy['clarity']=np.where(df_diamond_copy['clarity'] =='IF', '9', df_diamond_copy['clarity'])\n",
    "df_diamond_copy['clarity']=np.where(df_diamond_copy['clarity'] =='FL', '10', df_diamond_copy['clarity'])"
   ]
  },
  {
   "cell_type": "code",
   "execution_count": 76,
   "metadata": {},
   "outputs": [],
   "source": [
    "# object to int64\n",
    "obj_to_int = df_diamond_copy[['cut','color','clarity']]\n",
    "for i in obj_to_int:\n",
    "    df_diamond_copy[i] = df_diamond_copy[i].astype('int64')"
   ]
  },
  {
   "cell_type": "code",
   "execution_count": 77,
   "metadata": {},
   "outputs": [],
   "source": [
    "# Copy all the predictor variables into X dataframe\n",
    "X_copy = df_diamond_copy.drop('price', axis=1)\n",
    "\n",
    "# Copy target into the y dataframe. \n",
    "y_copy = df_diamond_copy[['price']]"
   ]
  },
  {
   "cell_type": "code",
   "execution_count": 78,
   "metadata": {},
   "outputs": [
    {
     "data": {
      "text/plain": [
       "(26925, 9)"
      ]
     },
     "execution_count": 78,
     "metadata": {},
     "output_type": "execute_result"
    }
   ],
   "source": [
    "X_copy.shape"
   ]
  },
  {
   "cell_type": "code",
   "execution_count": 79,
   "metadata": {},
   "outputs": [],
   "source": [
    "# Split X and y into training and test set in 70:30 ratio\n",
    "from sklearn.model_selection import train_test_split\n",
    "X_train_copy, X_test_copy, y_train_copy, y_test_copy = train_test_split(X_copy, y_copy, test_size=0.30 , random_state=1)"
   ]
  },
  {
   "cell_type": "code",
   "execution_count": 80,
   "metadata": {},
   "outputs": [
    {
     "data": {
      "text/plain": [
       "LinearRegression()"
      ]
     },
     "execution_count": 80,
     "metadata": {},
     "output_type": "execute_result"
    }
   ],
   "source": [
    "regressor = LinearRegression()\n",
    "regressor.fit(X_train_copy, y_train_copy)\n"
   ]
  },
  {
   "cell_type": "code",
   "execution_count": 81,
   "metadata": {},
   "outputs": [
    {
     "data": {
      "text/plain": [
       "(18847, 9)"
      ]
     },
     "execution_count": 81,
     "metadata": {},
     "output_type": "execute_result"
    }
   ],
   "source": [
    "X_train_copy.shape"
   ]
  },
  {
   "cell_type": "code",
   "execution_count": 82,
   "metadata": {},
   "outputs": [
    {
     "data": {
      "text/html": [
       "<div>\n",
       "<style scoped>\n",
       "    .dataframe tbody tr th:only-of-type {\n",
       "        vertical-align: middle;\n",
       "    }\n",
       "\n",
       "    .dataframe tbody tr th {\n",
       "        vertical-align: top;\n",
       "    }\n",
       "\n",
       "    .dataframe thead th {\n",
       "        text-align: right;\n",
       "    }\n",
       "</style>\n",
       "<table border=\"1\" class=\"dataframe\">\n",
       "  <thead>\n",
       "    <tr style=\"text-align: right;\">\n",
       "      <th></th>\n",
       "      <th>Predicted</th>\n",
       "      <th>Actual</th>\n",
       "    </tr>\n",
       "  </thead>\n",
       "  <tbody>\n",
       "    <tr>\n",
       "      <th>0</th>\n",
       "      <td>8287.158769</td>\n",
       "      <td>8758.0</td>\n",
       "    </tr>\n",
       "    <tr>\n",
       "      <th>1</th>\n",
       "      <td>4857.596683</td>\n",
       "      <td>4718.0</td>\n",
       "    </tr>\n",
       "    <tr>\n",
       "      <th>2</th>\n",
       "      <td>13477.002871</td>\n",
       "      <td>11965.0</td>\n",
       "    </tr>\n",
       "    <tr>\n",
       "      <th>3</th>\n",
       "      <td>11643.281714</td>\n",
       "      <td>11965.0</td>\n",
       "    </tr>\n",
       "    <tr>\n",
       "      <th>4</th>\n",
       "      <td>8618.019952</td>\n",
       "      <td>8165.0</td>\n",
       "    </tr>\n",
       "    <tr>\n",
       "      <th>...</th>\n",
       "      <td>...</td>\n",
       "      <td>...</td>\n",
       "    </tr>\n",
       "    <tr>\n",
       "      <th>8073</th>\n",
       "      <td>4199.950913</td>\n",
       "      <td>4642.0</td>\n",
       "    </tr>\n",
       "    <tr>\n",
       "      <th>8074</th>\n",
       "      <td>4321.270299</td>\n",
       "      <td>4038.0</td>\n",
       "    </tr>\n",
       "    <tr>\n",
       "      <th>8075</th>\n",
       "      <td>-28.192887</td>\n",
       "      <td>613.0</td>\n",
       "    </tr>\n",
       "    <tr>\n",
       "      <th>8076</th>\n",
       "      <td>408.627314</td>\n",
       "      <td>844.0</td>\n",
       "    </tr>\n",
       "    <tr>\n",
       "      <th>8077</th>\n",
       "      <td>5238.444168</td>\n",
       "      <td>5198.0</td>\n",
       "    </tr>\n",
       "  </tbody>\n",
       "</table>\n",
       "<p>8078 rows × 2 columns</p>\n",
       "</div>"
      ],
      "text/plain": [
       "         Predicted   Actual\n",
       "0      8287.158769   8758.0\n",
       "1      4857.596683   4718.0\n",
       "2     13477.002871  11965.0\n",
       "3     11643.281714  11965.0\n",
       "4      8618.019952   8165.0\n",
       "...            ...      ...\n",
       "8073   4199.950913   4642.0\n",
       "8074   4321.270299   4038.0\n",
       "8075    -28.192887    613.0\n",
       "8076    408.627314    844.0\n",
       "8077   5238.444168   5198.0\n",
       "\n",
       "[8078 rows x 2 columns]"
      ]
     },
     "execution_count": 82,
     "metadata": {},
     "output_type": "execute_result"
    }
   ],
   "source": [
    "y_pred = regressor.predict(X_test_copy)\n",
    "np.set_printoptions(precision=5) #2 decimal places\n",
    "prediction = pd.DataFrame(np.concatenate((y_pred.reshape(len(y_pred),1), y_test_copy.values.reshape(len(y_test_copy),1)),1),columns=['Predicted','Actual'])\n",
    "prediction"
   ]
  },
  {
   "cell_type": "code",
   "execution_count": 93,
   "metadata": {},
   "outputs": [
    {
     "data": {
      "text/html": [
       "<div>\n",
       "<style scoped>\n",
       "    .dataframe tbody tr th:only-of-type {\n",
       "        vertical-align: middle;\n",
       "    }\n",
       "\n",
       "    .dataframe tbody tr th {\n",
       "        vertical-align: top;\n",
       "    }\n",
       "\n",
       "    .dataframe thead th {\n",
       "        text-align: right;\n",
       "    }\n",
       "</style>\n",
       "<table border=\"1\" class=\"dataframe\">\n",
       "  <thead>\n",
       "    <tr style=\"text-align: right;\">\n",
       "      <th></th>\n",
       "      <th>Predicted</th>\n",
       "      <th>Actual</th>\n",
       "    </tr>\n",
       "  </thead>\n",
       "  <tbody>\n",
       "    <tr>\n",
       "      <th>0</th>\n",
       "      <td>1.313408</td>\n",
       "      <td>1.449240</td>\n",
       "    </tr>\n",
       "    <tr>\n",
       "      <th>1</th>\n",
       "      <td>0.324015</td>\n",
       "      <td>0.283743</td>\n",
       "    </tr>\n",
       "    <tr>\n",
       "      <th>2</th>\n",
       "      <td>2.810623</td>\n",
       "      <td>2.374426</td>\n",
       "    </tr>\n",
       "    <tr>\n",
       "      <th>3</th>\n",
       "      <td>2.281614</td>\n",
       "      <td>2.374426</td>\n",
       "    </tr>\n",
       "    <tr>\n",
       "      <th>4</th>\n",
       "      <td>1.408858</td>\n",
       "      <td>1.278166</td>\n",
       "    </tr>\n",
       "    <tr>\n",
       "      <th>...</th>\n",
       "      <td>...</td>\n",
       "      <td>...</td>\n",
       "    </tr>\n",
       "    <tr>\n",
       "      <th>8073</th>\n",
       "      <td>0.134291</td>\n",
       "      <td>0.261818</td>\n",
       "    </tr>\n",
       "    <tr>\n",
       "      <th>8074</th>\n",
       "      <td>0.169290</td>\n",
       "      <td>0.087570</td>\n",
       "    </tr>\n",
       "    <tr>\n",
       "      <th>8075</th>\n",
       "      <td>-1.085484</td>\n",
       "      <td>-0.900507</td>\n",
       "    </tr>\n",
       "    <tr>\n",
       "      <th>8076</th>\n",
       "      <td>-0.959466</td>\n",
       "      <td>-0.833866</td>\n",
       "    </tr>\n",
       "    <tr>\n",
       "      <th>8077</th>\n",
       "      <td>0.433885</td>\n",
       "      <td>0.422218</td>\n",
       "    </tr>\n",
       "  </tbody>\n",
       "</table>\n",
       "<p>8078 rows × 2 columns</p>\n",
       "</div>"
      ],
      "text/plain": [
       "      Predicted    Actual\n",
       "0      1.313408  1.449240\n",
       "1      0.324015  0.283743\n",
       "2      2.810623  2.374426\n",
       "3      2.281614  2.374426\n",
       "4      1.408858  1.278166\n",
       "...         ...       ...\n",
       "8073   0.134291  0.261818\n",
       "8074   0.169290  0.087570\n",
       "8075  -1.085484 -0.900507\n",
       "8076  -0.959466 -0.833866\n",
       "8077   0.433885  0.422218\n",
       "\n",
       "[8078 rows x 2 columns]"
      ]
     },
     "execution_count": 93,
     "metadata": {},
     "output_type": "execute_result"
    }
   ],
   "source": [
    "y_pred = regression_model.predict(X_test)\n",
    "np.set_printoptions(precision=5) #2 decimal places\n",
    "prediction = pd.DataFrame(np.concatenate((y_pred.reshape(len(y_pred),1), y_test.values.reshape(len(y_test),1)),1),columns=['Predicted','Actual'])\n",
    "prediction"
   ]
  },
  {
   "cell_type": "code",
   "execution_count": 83,
   "metadata": {},
   "outputs": [
    {
     "name": "stdout",
     "output_type": "stream",
     "text": [
      "(-0.0) * Intercept + (1.18) * carat + (0.04) * cut + (0.13) * color + (0.21) * clarity + (0.01) * depth + (-0.01) * table + (-0.44) * x + (0.5) * y + (-0.19) * z + "
     ]
    }
   ],
   "source": [
    "# Linear Regression Equation\n",
    "for i,j in np.array(lm1.params.reset_index()):\n",
    "    print('({}) * {} +'.format(round(j,2),i),end=' ')"
   ]
  },
  {
   "cell_type": "code",
   "execution_count": 84,
   "metadata": {},
   "outputs": [],
   "source": [
    "#Variance Inflation Factor\n",
    "from statsmodels.stats.outliers_influence import variance_inflation_factor"
   ]
  },
  {
   "cell_type": "code",
   "execution_count": 85,
   "metadata": {},
   "outputs": [],
   "source": [
    "vif = pd.DataFrame()"
   ]
  },
  {
   "cell_type": "code",
   "execution_count": 86,
   "metadata": {},
   "outputs": [
    {
     "data": {
      "text/plain": [
       "Index(['carat', 'cut', 'color', 'clarity', 'depth', 'table', 'x', 'y', 'z'], dtype='object')"
      ]
     },
     "execution_count": 86,
     "metadata": {},
     "output_type": "execute_result"
    }
   ],
   "source": [
    "X_train.columns"
   ]
  },
  {
   "cell_type": "code",
   "execution_count": 87,
   "metadata": {},
   "outputs": [],
   "source": [
    "columns = ['carat', 'cut', 'color', 'clarity', 'depth', 'table', 'x', 'y', 'z']"
   ]
  },
  {
   "cell_type": "code",
   "execution_count": 88,
   "metadata": {},
   "outputs": [],
   "source": [
    "vif_df = X[columns]\n",
    "vif = pd.DataFrame()"
   ]
  },
  {
   "cell_type": "code",
   "execution_count": 89,
   "metadata": {},
   "outputs": [],
   "source": [
    "vif['Variable_Inf_factor'] = [variance_inflation_factor(vif_df.values,i) for i in range(vif_df.shape[1])]"
   ]
  },
  {
   "cell_type": "code",
   "execution_count": 90,
   "metadata": {},
   "outputs": [],
   "source": [
    "vif[\"features\"] = vif_df.columns"
   ]
  },
  {
   "cell_type": "code",
   "execution_count": 91,
   "metadata": {},
   "outputs": [
    {
     "data": {
      "text/html": [
       "<div>\n",
       "<style scoped>\n",
       "    .dataframe tbody tr th:only-of-type {\n",
       "        vertical-align: middle;\n",
       "    }\n",
       "\n",
       "    .dataframe tbody tr th {\n",
       "        vertical-align: top;\n",
       "    }\n",
       "\n",
       "    .dataframe thead th {\n",
       "        text-align: right;\n",
       "    }\n",
       "</style>\n",
       "<table border=\"1\" class=\"dataframe\">\n",
       "  <thead>\n",
       "    <tr style=\"text-align: right;\">\n",
       "      <th></th>\n",
       "      <th>Variable_Inf_factor</th>\n",
       "      <th>features</th>\n",
       "    </tr>\n",
       "  </thead>\n",
       "  <tbody>\n",
       "    <tr>\n",
       "      <th>0</th>\n",
       "      <td>32.891284</td>\n",
       "      <td>carat</td>\n",
       "    </tr>\n",
       "    <tr>\n",
       "      <th>1</th>\n",
       "      <td>1.509590</td>\n",
       "      <td>cut</td>\n",
       "    </tr>\n",
       "    <tr>\n",
       "      <th>2</th>\n",
       "      <td>1.119859</td>\n",
       "      <td>color</td>\n",
       "    </tr>\n",
       "    <tr>\n",
       "      <th>3</th>\n",
       "      <td>1.241452</td>\n",
       "      <td>clarity</td>\n",
       "    </tr>\n",
       "    <tr>\n",
       "      <th>4</th>\n",
       "      <td>4.453927</td>\n",
       "      <td>depth</td>\n",
       "    </tr>\n",
       "    <tr>\n",
       "      <th>5</th>\n",
       "      <td>1.618348</td>\n",
       "      <td>table</td>\n",
       "    </tr>\n",
       "    <tr>\n",
       "      <th>6</th>\n",
       "      <td>417.370935</td>\n",
       "      <td>x</td>\n",
       "    </tr>\n",
       "    <tr>\n",
       "      <th>7</th>\n",
       "      <td>398.581660</td>\n",
       "      <td>y</td>\n",
       "    </tr>\n",
       "    <tr>\n",
       "      <th>8</th>\n",
       "      <td>234.837061</td>\n",
       "      <td>z</td>\n",
       "    </tr>\n",
       "  </tbody>\n",
       "</table>\n",
       "</div>"
      ],
      "text/plain": [
       "   Variable_Inf_factor features\n",
       "0            32.891284    carat\n",
       "1             1.509590      cut\n",
       "2             1.119859    color\n",
       "3             1.241452  clarity\n",
       "4             4.453927    depth\n",
       "5             1.618348    table\n",
       "6           417.370935        x\n",
       "7           398.581660        y\n",
       "8           234.837061        z"
      ]
     },
     "execution_count": 91,
     "metadata": {},
     "output_type": "execute_result"
    }
   ],
   "source": [
    "#VIF values check\n",
    "vif"
   ]
  },
  {
   "cell_type": "markdown",
   "metadata": {},
   "source": [
    "## 1.4 Inference: Basis on these predictions, what are the business insights and recommendations. => Answers provided in the Business Report"
   ]
  }
 ],
 "metadata": {
  "kernelspec": {
   "display_name": "Python 3",
   "language": "python",
   "name": "python3"
  },
  "language_info": {
   "codemirror_mode": {
    "name": "ipython",
    "version": 3
   },
   "file_extension": ".py",
   "mimetype": "text/x-python",
   "name": "python",
   "nbconvert_exporter": "python",
   "pygments_lexer": "ipython3",
   "version": "3.7.1"
  }
 },
 "nbformat": 4,
 "nbformat_minor": 4
}
